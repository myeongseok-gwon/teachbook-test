{
 "cells": [
  {
   "cell_type": "markdown",
   "metadata": {
    "id": "-VRZnOBNA6o7"
   },
   "source": [
    "# Regression Discontinuity\n",
    "This notebook illustrates the use of Regression Discontinuity in an empirical study. We analyze the effect of the antipoverty program *Progresa/Oportunidades* on the consumption behavior of families in Mexico in the early 2000s.\n",
    "\n",
    "The program was intended for families in extreme poverty and included financial incentives for participation in measures that improved the family's health, nutrition and children's education. The effect of this program is a widely studied problem in social and economic sciences and, according to the WHO, was a very successful measure in terms of reducing extreme poverty in Mexico.\n",
    "\n",
    "Eligibility for the program was determined based on a pre-intervention household poverty-index. Individuals above a certain threshold received the treatment (participation in the program) while individuals below the threshold were excluded and recorded as a control group. All observations above the threshold participated in the program, which makes the analysis fall into the standard (sharp) regression discontinuity design.\n",
    "\n",
    "First, we need to install and load some packages."
   ]
  },
  {
   "cell_type": "code",
   "execution_count": null,
   "metadata": {
    "id": "1Yr5aL2yAgYN"
   },
   "outputs": [],
   "source": [
    "!pip install rdd rdrobust\n",
    "import pandas as pd\n",
    "from sklearn.linear_model import LinearRegression, LassoCV\n",
    "from sklearn.ensemble import RandomForestRegressor\n",
    "from sklearn.model_selection import KFold\n",
    "from lightgbm import LGBMRegressor\n",
    "import matplotlib.pyplot as plt\n",
    "import numpy as np\n",
    "import patsy\n",
    "from rdd.rdd import optimal_bandwidth\n",
    "from rdrobust import rdrobust"
   ]
  },
  {
   "cell_type": "markdown",
   "metadata": {
    "id": "GH0wFmHSxnen"
   },
   "source": [
    "We use a dataset assembled by [Calonico et al. (2014)](https://rdpackages.github.io/references/Calonico-Cattaneo-Titiunik_2014_ECMA--Supplemental.pdf) and follow the analysis in [Noack et al. (2023)](https://arxiv.org/pdf/2107.07942.pdf).\n",
    "\n",
    "First, we open the data and remove any observations that have NaN values."
   ]
  },
  {
   "cell_type": "code",
   "execution_count": 1,
   "metadata": {
    "id": "Rzbv0XXCxxJt"
   },
   "outputs": [
    {
     "name": "stdout",
     "output_type": "stream",
     "text": [
      "Shape of Data:\n",
      "(1944, 27)\n",
      "Variable Names:\n",
      "Index(['hhpiso', 'hhrooms', 'hhwater', 'hhwaterin', 'hhbano', 'hhownhouse',\n",
      "       'hhsize', 'hhelect', 'clus', 'headmale', 'headage', 'heademp',\n",
      "       'wifeage', 'wifeeduc', 'headeduc', 'child_0to5', 'boy_0to5',\n",
      "       'pov_index', 'conspcfood_t0', 'conspcfood_t1', 'conspcfood_t2',\n",
      "       'conspcnonfood_t0', 'conspcnonfood_t1', 'conspcnonfood_t2', 'conspc_t0',\n",
      "       'conspc_t1', 'conspc_t2'],\n",
      "      dtype='object')\n"
     ]
    },
    {
     "data": {
      "text/html": [
       "<div>\n",
       "<style scoped>\n",
       "    .dataframe tbody tr th:only-of-type {\n",
       "        vertical-align: middle;\n",
       "    }\n",
       "\n",
       "    .dataframe tbody tr th {\n",
       "        vertical-align: top;\n",
       "    }\n",
       "\n",
       "    .dataframe thead th {\n",
       "        text-align: right;\n",
       "    }\n",
       "</style>\n",
       "<table border=\"1\" class=\"dataframe\">\n",
       "  <thead>\n",
       "    <tr style=\"text-align: right;\">\n",
       "      <th></th>\n",
       "      <th>hhpiso</th>\n",
       "      <th>hhrooms</th>\n",
       "      <th>hhwater</th>\n",
       "      <th>hhwaterin</th>\n",
       "      <th>hhbano</th>\n",
       "      <th>hhownhouse</th>\n",
       "      <th>hhsize</th>\n",
       "      <th>hhelect</th>\n",
       "      <th>clus</th>\n",
       "      <th>headmale</th>\n",
       "      <th>...</th>\n",
       "      <th>pov_index</th>\n",
       "      <th>conspcfood_t0</th>\n",
       "      <th>conspcfood_t1</th>\n",
       "      <th>conspcfood_t2</th>\n",
       "      <th>conspcnonfood_t0</th>\n",
       "      <th>conspcnonfood_t1</th>\n",
       "      <th>conspcnonfood_t2</th>\n",
       "      <th>conspc_t0</th>\n",
       "      <th>conspc_t1</th>\n",
       "      <th>conspc_t2</th>\n",
       "    </tr>\n",
       "  </thead>\n",
       "  <tbody>\n",
       "    <tr>\n",
       "      <th>1</th>\n",
       "      <td>1.0</td>\n",
       "      <td>1.0</td>\n",
       "      <td>1.0</td>\n",
       "      <td>1.0</td>\n",
       "      <td>1.0</td>\n",
       "      <td>0.0</td>\n",
       "      <td>5</td>\n",
       "      <td>1</td>\n",
       "      <td>1</td>\n",
       "      <td>1</td>\n",
       "      <td>...</td>\n",
       "      <td>1.5410</td>\n",
       "      <td>260.223999</td>\n",
       "      <td>374.071991</td>\n",
       "      <td>379.208008</td>\n",
       "      <td>106.186668</td>\n",
       "      <td>183.149323</td>\n",
       "      <td>57.127998</td>\n",
       "      <td>366.410675</td>\n",
       "      <td>557.221313</td>\n",
       "      <td>436.335999</td>\n",
       "    </tr>\n",
       "    <tr>\n",
       "      <th>2</th>\n",
       "      <td>1.0</td>\n",
       "      <td>1.0</td>\n",
       "      <td>1.0</td>\n",
       "      <td>0.0</td>\n",
       "      <td>0.0</td>\n",
       "      <td>1.0</td>\n",
       "      <td>5</td>\n",
       "      <td>1</td>\n",
       "      <td>1</td>\n",
       "      <td>1</td>\n",
       "      <td>...</td>\n",
       "      <td>-0.6615</td>\n",
       "      <td>265.359985</td>\n",
       "      <td>574.375977</td>\n",
       "      <td>195.167999</td>\n",
       "      <td>87.266663</td>\n",
       "      <td>160.013336</td>\n",
       "      <td>112.136002</td>\n",
       "      <td>352.626648</td>\n",
       "      <td>734.389282</td>\n",
       "      <td>307.304016</td>\n",
       "    </tr>\n",
       "    <tr>\n",
       "      <th>3</th>\n",
       "      <td>1.0</td>\n",
       "      <td>1.0</td>\n",
       "      <td>0.0</td>\n",
       "      <td>0.0</td>\n",
       "      <td>1.0</td>\n",
       "      <td>1.0</td>\n",
       "      <td>4</td>\n",
       "      <td>1</td>\n",
       "      <td>1</td>\n",
       "      <td>1</td>\n",
       "      <td>...</td>\n",
       "      <td>-0.3240</td>\n",
       "      <td>604.549988</td>\n",
       "      <td>433.350006</td>\n",
       "      <td>367.010010</td>\n",
       "      <td>348.813324</td>\n",
       "      <td>263.083344</td>\n",
       "      <td>123.323334</td>\n",
       "      <td>953.363281</td>\n",
       "      <td>696.433350</td>\n",
       "      <td>490.333344</td>\n",
       "    </tr>\n",
       "    <tr>\n",
       "      <th>4</th>\n",
       "      <td>0.0</td>\n",
       "      <td>1.0</td>\n",
       "      <td>0.0</td>\n",
       "      <td>0.0</td>\n",
       "      <td>1.0</td>\n",
       "      <td>0.0</td>\n",
       "      <td>6</td>\n",
       "      <td>1</td>\n",
       "      <td>1</td>\n",
       "      <td>1</td>\n",
       "      <td>...</td>\n",
       "      <td>1.1500</td>\n",
       "      <td>233.259995</td>\n",
       "      <td>281.766663</td>\n",
       "      <td>260.468567</td>\n",
       "      <td>100.877777</td>\n",
       "      <td>140.233337</td>\n",
       "      <td>36.325714</td>\n",
       "      <td>334.137756</td>\n",
       "      <td>422.000000</td>\n",
       "      <td>296.794281</td>\n",
       "    </tr>\n",
       "    <tr>\n",
       "      <th>6</th>\n",
       "      <td>1.0</td>\n",
       "      <td>1.0</td>\n",
       "      <td>1.0</td>\n",
       "      <td>0.0</td>\n",
       "      <td>1.0</td>\n",
       "      <td>1.0</td>\n",
       "      <td>4</td>\n",
       "      <td>1</td>\n",
       "      <td>1</td>\n",
       "      <td>1</td>\n",
       "      <td>...</td>\n",
       "      <td>-0.8260</td>\n",
       "      <td>280.339996</td>\n",
       "      <td>185.110001</td>\n",
       "      <td>364.869995</td>\n",
       "      <td>158.416656</td>\n",
       "      <td>201.183334</td>\n",
       "      <td>68.000000</td>\n",
       "      <td>438.756653</td>\n",
       "      <td>386.293335</td>\n",
       "      <td>432.869995</td>\n",
       "    </tr>\n",
       "  </tbody>\n",
       "</table>\n",
       "<p>5 rows × 27 columns</p>\n",
       "</div>"
      ],
      "text/plain": [
       "   hhpiso  hhrooms  hhwater  hhwaterin  hhbano  hhownhouse  hhsize  hhelect  \\\n",
       "1     1.0      1.0      1.0        1.0     1.0         0.0       5        1   \n",
       "2     1.0      1.0      1.0        0.0     0.0         1.0       5        1   \n",
       "3     1.0      1.0      0.0        0.0     1.0         1.0       4        1   \n",
       "4     0.0      1.0      0.0        0.0     1.0         0.0       6        1   \n",
       "6     1.0      1.0      1.0        0.0     1.0         1.0       4        1   \n",
       "\n",
       "   clus  headmale  ...  pov_index  conspcfood_t0  conspcfood_t1  \\\n",
       "1     1         1  ...     1.5410     260.223999     374.071991   \n",
       "2     1         1  ...    -0.6615     265.359985     574.375977   \n",
       "3     1         1  ...    -0.3240     604.549988     433.350006   \n",
       "4     1         1  ...     1.1500     233.259995     281.766663   \n",
       "6     1         1  ...    -0.8260     280.339996     185.110001   \n",
       "\n",
       "   conspcfood_t2  conspcnonfood_t0  conspcnonfood_t1  conspcnonfood_t2  \\\n",
       "1     379.208008        106.186668        183.149323         57.127998   \n",
       "2     195.167999         87.266663        160.013336        112.136002   \n",
       "3     367.010010        348.813324        263.083344        123.323334   \n",
       "4     260.468567        100.877777        140.233337         36.325714   \n",
       "6     364.869995        158.416656        201.183334         68.000000   \n",
       "\n",
       "    conspc_t0   conspc_t1   conspc_t2  \n",
       "1  366.410675  557.221313  436.335999  \n",
       "2  352.626648  734.389282  307.304016  \n",
       "3  953.363281  696.433350  490.333344  \n",
       "4  334.137756  422.000000  296.794281  \n",
       "6  438.756653  386.293335  432.869995  \n",
       "\n",
       "[5 rows x 27 columns]"
      ]
     },
     "execution_count": 1,
     "metadata": {},
     "output_type": "execute_result"
    }
   ],
   "source": [
    "import pandas as pd\n",
    "\n",
    "df = pd.read_csv(\"../data/causal_ml_data/progresa.csv\",index_col=0)\n",
    "df = df.dropna()\n",
    "\n",
    "df.rename(columns={\"index\": \"pov_index\"}, inplace=True)\n",
    "\n",
    "print(\"Shape of Data:\")\n",
    "print(df.shape)\n",
    "print(\"Variable Names:\")\n",
    "print(df.columns)\n",
    "df.head()"
   ]
  },
  {
   "cell_type": "markdown",
   "metadata": {
    "id": "vGbvqQmpmoqV"
   },
   "source": [
    "The data set contains 1,944 observations for which full covariate information of 27 variables is available.\n",
    "\n",
    "We want to measure the local average treatment effect of program participation on four outcome variables. The outcome variables are food and non-food consumption of the recorded families at two points in time, one year and two years after the implementation of the program.\n",
    "\n",
    "The baseline covariates, recorded prior to program implementation, include the household's size; household head's age, sex, years of education and employment status; spouse's age and years of education; number of children not older than five years and their sex, and physical characteristics of the house: whether the house has cement floors, water connection, water connection inside the house, a bathroom, electricity, number of rooms, pre-intervention consumption, and an identifier of the urban locality in which the house is located.\n",
    "\n",
    "The data fits to the pattern of a sharp RD design, namely, all individuals that were below the cut-off index received no intervention, and all individuals above the cut-off were eligible to join the *progresa* program and thus participated."
   ]
  },
  {
   "cell_type": "markdown",
   "metadata": {
    "id": "9yvX75wy98g9"
   },
   "source": [
    "## Estimation without Covariates"
   ]
  },
  {
   "cell_type": "markdown",
   "metadata": {
    "id": "bCueRzpuqNXn"
   },
   "source": [
    "First, we will perform a very simple RD estimation with a weighted linear regression. We use a triangular kernel, which assigns weights to observations based on their distance from the cutoff point. The weights decrease linearly as the distance from the cutoff point increases."
   ]
  },
  {
   "cell_type": "code",
   "execution_count": 3,
   "metadata": {
    "id": "1LAMZP540pLn"
   },
   "outputs": [],
   "source": [
    "def triangular_kernel(index, h):\n",
    "    weights = 1 - np.abs(index) / h\n",
    "    weights[weights < 0] = 0\n",
    "    return weights"
   ]
  },
  {
   "cell_type": "markdown",
   "metadata": {
    "id": "N-I-EBps0ubO"
   },
   "source": [
    "The parameter `h` is the bandwidth that controls the range of observations that receive non-zero weights. We use the `IKbandwidth` function from the `rdd` package that implements the *Imbens-Kalyanaraman* method. Another standard approach would be to use the standard deviation of `index`."
   ]
  },
  {
   "cell_type": "code",
   "execution_count": 4,
   "metadata": {
    "id": "bFuzAouP04lO"
   },
   "outputs": [],
   "source": [
    "h = optimal_bandwidth(X=df.pov_index, Y=df.conspcfood_t1, cut=0)"
   ]
  },
  {
   "cell_type": "markdown",
   "metadata": {
    "id": "J9kU7tQ207A3"
   },
   "source": [
    "We use the triangular kernel function to calculate weights for each observation. After that, we can fit two seperate linear regressions for both treatment and control groups."
   ]
  },
  {
   "cell_type": "code",
   "execution_count": 5,
   "metadata": {
    "id": "cjc7f7F6qM36"
   },
   "outputs": [
    {
     "data": {
      "text/html": [
       "<style>#sk-container-id-1 {\n",
       "  /* Definition of color scheme common for light and dark mode */\n",
       "  --sklearn-color-text: black;\n",
       "  --sklearn-color-line: gray;\n",
       "  /* Definition of color scheme for unfitted estimators */\n",
       "  --sklearn-color-unfitted-level-0: #fff5e6;\n",
       "  --sklearn-color-unfitted-level-1: #f6e4d2;\n",
       "  --sklearn-color-unfitted-level-2: #ffe0b3;\n",
       "  --sklearn-color-unfitted-level-3: chocolate;\n",
       "  /* Definition of color scheme for fitted estimators */\n",
       "  --sklearn-color-fitted-level-0: #f0f8ff;\n",
       "  --sklearn-color-fitted-level-1: #d4ebff;\n",
       "  --sklearn-color-fitted-level-2: #b3dbfd;\n",
       "  --sklearn-color-fitted-level-3: cornflowerblue;\n",
       "\n",
       "  /* Specific color for light theme */\n",
       "  --sklearn-color-text-on-default-background: var(--sg-text-color, var(--theme-code-foreground, var(--jp-content-font-color1, black)));\n",
       "  --sklearn-color-background: var(--sg-background-color, var(--theme-background, var(--jp-layout-color0, white)));\n",
       "  --sklearn-color-border-box: var(--sg-text-color, var(--theme-code-foreground, var(--jp-content-font-color1, black)));\n",
       "  --sklearn-color-icon: #696969;\n",
       "\n",
       "  @media (prefers-color-scheme: dark) {\n",
       "    /* Redefinition of color scheme for dark theme */\n",
       "    --sklearn-color-text-on-default-background: var(--sg-text-color, var(--theme-code-foreground, var(--jp-content-font-color1, white)));\n",
       "    --sklearn-color-background: var(--sg-background-color, var(--theme-background, var(--jp-layout-color0, #111)));\n",
       "    --sklearn-color-border-box: var(--sg-text-color, var(--theme-code-foreground, var(--jp-content-font-color1, white)));\n",
       "    --sklearn-color-icon: #878787;\n",
       "  }\n",
       "}\n",
       "\n",
       "#sk-container-id-1 {\n",
       "  color: var(--sklearn-color-text);\n",
       "}\n",
       "\n",
       "#sk-container-id-1 pre {\n",
       "  padding: 0;\n",
       "}\n",
       "\n",
       "#sk-container-id-1 input.sk-hidden--visually {\n",
       "  border: 0;\n",
       "  clip: rect(1px 1px 1px 1px);\n",
       "  clip: rect(1px, 1px, 1px, 1px);\n",
       "  height: 1px;\n",
       "  margin: -1px;\n",
       "  overflow: hidden;\n",
       "  padding: 0;\n",
       "  position: absolute;\n",
       "  width: 1px;\n",
       "}\n",
       "\n",
       "#sk-container-id-1 div.sk-dashed-wrapped {\n",
       "  border: 1px dashed var(--sklearn-color-line);\n",
       "  margin: 0 0.4em 0.5em 0.4em;\n",
       "  box-sizing: border-box;\n",
       "  padding-bottom: 0.4em;\n",
       "  background-color: var(--sklearn-color-background);\n",
       "}\n",
       "\n",
       "#sk-container-id-1 div.sk-container {\n",
       "  /* jupyter's `normalize.less` sets `[hidden] { display: none; }`\n",
       "     but bootstrap.min.css set `[hidden] { display: none !important; }`\n",
       "     so we also need the `!important` here to be able to override the\n",
       "     default hidden behavior on the sphinx rendered scikit-learn.org.\n",
       "     See: https://github.com/scikit-learn/scikit-learn/issues/21755 */\n",
       "  display: inline-block !important;\n",
       "  position: relative;\n",
       "}\n",
       "\n",
       "#sk-container-id-1 div.sk-text-repr-fallback {\n",
       "  display: none;\n",
       "}\n",
       "\n",
       "div.sk-parallel-item,\n",
       "div.sk-serial,\n",
       "div.sk-item {\n",
       "  /* draw centered vertical line to link estimators */\n",
       "  background-image: linear-gradient(var(--sklearn-color-text-on-default-background), var(--sklearn-color-text-on-default-background));\n",
       "  background-size: 2px 100%;\n",
       "  background-repeat: no-repeat;\n",
       "  background-position: center center;\n",
       "}\n",
       "\n",
       "/* Parallel-specific style estimator block */\n",
       "\n",
       "#sk-container-id-1 div.sk-parallel-item::after {\n",
       "  content: \"\";\n",
       "  width: 100%;\n",
       "  border-bottom: 2px solid var(--sklearn-color-text-on-default-background);\n",
       "  flex-grow: 1;\n",
       "}\n",
       "\n",
       "#sk-container-id-1 div.sk-parallel {\n",
       "  display: flex;\n",
       "  align-items: stretch;\n",
       "  justify-content: center;\n",
       "  background-color: var(--sklearn-color-background);\n",
       "  position: relative;\n",
       "}\n",
       "\n",
       "#sk-container-id-1 div.sk-parallel-item {\n",
       "  display: flex;\n",
       "  flex-direction: column;\n",
       "}\n",
       "\n",
       "#sk-container-id-1 div.sk-parallel-item:first-child::after {\n",
       "  align-self: flex-end;\n",
       "  width: 50%;\n",
       "}\n",
       "\n",
       "#sk-container-id-1 div.sk-parallel-item:last-child::after {\n",
       "  align-self: flex-start;\n",
       "  width: 50%;\n",
       "}\n",
       "\n",
       "#sk-container-id-1 div.sk-parallel-item:only-child::after {\n",
       "  width: 0;\n",
       "}\n",
       "\n",
       "/* Serial-specific style estimator block */\n",
       "\n",
       "#sk-container-id-1 div.sk-serial {\n",
       "  display: flex;\n",
       "  flex-direction: column;\n",
       "  align-items: center;\n",
       "  background-color: var(--sklearn-color-background);\n",
       "  padding-right: 1em;\n",
       "  padding-left: 1em;\n",
       "}\n",
       "\n",
       "\n",
       "/* Toggleable style: style used for estimator/Pipeline/ColumnTransformer box that is\n",
       "clickable and can be expanded/collapsed.\n",
       "- Pipeline and ColumnTransformer use this feature and define the default style\n",
       "- Estimators will overwrite some part of the style using the `sk-estimator` class\n",
       "*/\n",
       "\n",
       "/* Pipeline and ColumnTransformer style (default) */\n",
       "\n",
       "#sk-container-id-1 div.sk-toggleable {\n",
       "  /* Default theme specific background. It is overwritten whether we have a\n",
       "  specific estimator or a Pipeline/ColumnTransformer */\n",
       "  background-color: var(--sklearn-color-background);\n",
       "}\n",
       "\n",
       "/* Toggleable label */\n",
       "#sk-container-id-1 label.sk-toggleable__label {\n",
       "  cursor: pointer;\n",
       "  display: block;\n",
       "  width: 100%;\n",
       "  margin-bottom: 0;\n",
       "  padding: 0.5em;\n",
       "  box-sizing: border-box;\n",
       "  text-align: center;\n",
       "}\n",
       "\n",
       "#sk-container-id-1 label.sk-toggleable__label-arrow:before {\n",
       "  /* Arrow on the left of the label */\n",
       "  content: \"▸\";\n",
       "  float: left;\n",
       "  margin-right: 0.25em;\n",
       "  color: var(--sklearn-color-icon);\n",
       "}\n",
       "\n",
       "#sk-container-id-1 label.sk-toggleable__label-arrow:hover:before {\n",
       "  color: var(--sklearn-color-text);\n",
       "}\n",
       "\n",
       "/* Toggleable content - dropdown */\n",
       "\n",
       "#sk-container-id-1 div.sk-toggleable__content {\n",
       "  max-height: 0;\n",
       "  max-width: 0;\n",
       "  overflow: hidden;\n",
       "  text-align: left;\n",
       "  /* unfitted */\n",
       "  background-color: var(--sklearn-color-unfitted-level-0);\n",
       "}\n",
       "\n",
       "#sk-container-id-1 div.sk-toggleable__content.fitted {\n",
       "  /* fitted */\n",
       "  background-color: var(--sklearn-color-fitted-level-0);\n",
       "}\n",
       "\n",
       "#sk-container-id-1 div.sk-toggleable__content pre {\n",
       "  margin: 0.2em;\n",
       "  border-radius: 0.25em;\n",
       "  color: var(--sklearn-color-text);\n",
       "  /* unfitted */\n",
       "  background-color: var(--sklearn-color-unfitted-level-0);\n",
       "}\n",
       "\n",
       "#sk-container-id-1 div.sk-toggleable__content.fitted pre {\n",
       "  /* unfitted */\n",
       "  background-color: var(--sklearn-color-fitted-level-0);\n",
       "}\n",
       "\n",
       "#sk-container-id-1 input.sk-toggleable__control:checked~div.sk-toggleable__content {\n",
       "  /* Expand drop-down */\n",
       "  max-height: 200px;\n",
       "  max-width: 100%;\n",
       "  overflow: auto;\n",
       "}\n",
       "\n",
       "#sk-container-id-1 input.sk-toggleable__control:checked~label.sk-toggleable__label-arrow:before {\n",
       "  content: \"▾\";\n",
       "}\n",
       "\n",
       "/* Pipeline/ColumnTransformer-specific style */\n",
       "\n",
       "#sk-container-id-1 div.sk-label input.sk-toggleable__control:checked~label.sk-toggleable__label {\n",
       "  color: var(--sklearn-color-text);\n",
       "  background-color: var(--sklearn-color-unfitted-level-2);\n",
       "}\n",
       "\n",
       "#sk-container-id-1 div.sk-label.fitted input.sk-toggleable__control:checked~label.sk-toggleable__label {\n",
       "  background-color: var(--sklearn-color-fitted-level-2);\n",
       "}\n",
       "\n",
       "/* Estimator-specific style */\n",
       "\n",
       "/* Colorize estimator box */\n",
       "#sk-container-id-1 div.sk-estimator input.sk-toggleable__control:checked~label.sk-toggleable__label {\n",
       "  /* unfitted */\n",
       "  background-color: var(--sklearn-color-unfitted-level-2);\n",
       "}\n",
       "\n",
       "#sk-container-id-1 div.sk-estimator.fitted input.sk-toggleable__control:checked~label.sk-toggleable__label {\n",
       "  /* fitted */\n",
       "  background-color: var(--sklearn-color-fitted-level-2);\n",
       "}\n",
       "\n",
       "#sk-container-id-1 div.sk-label label.sk-toggleable__label,\n",
       "#sk-container-id-1 div.sk-label label {\n",
       "  /* The background is the default theme color */\n",
       "  color: var(--sklearn-color-text-on-default-background);\n",
       "}\n",
       "\n",
       "/* On hover, darken the color of the background */\n",
       "#sk-container-id-1 div.sk-label:hover label.sk-toggleable__label {\n",
       "  color: var(--sklearn-color-text);\n",
       "  background-color: var(--sklearn-color-unfitted-level-2);\n",
       "}\n",
       "\n",
       "/* Label box, darken color on hover, fitted */\n",
       "#sk-container-id-1 div.sk-label.fitted:hover label.sk-toggleable__label.fitted {\n",
       "  color: var(--sklearn-color-text);\n",
       "  background-color: var(--sklearn-color-fitted-level-2);\n",
       "}\n",
       "\n",
       "/* Estimator label */\n",
       "\n",
       "#sk-container-id-1 div.sk-label label {\n",
       "  font-family: monospace;\n",
       "  font-weight: bold;\n",
       "  display: inline-block;\n",
       "  line-height: 1.2em;\n",
       "}\n",
       "\n",
       "#sk-container-id-1 div.sk-label-container {\n",
       "  text-align: center;\n",
       "}\n",
       "\n",
       "/* Estimator-specific */\n",
       "#sk-container-id-1 div.sk-estimator {\n",
       "  font-family: monospace;\n",
       "  border: 1px dotted var(--sklearn-color-border-box);\n",
       "  border-radius: 0.25em;\n",
       "  box-sizing: border-box;\n",
       "  margin-bottom: 0.5em;\n",
       "  /* unfitted */\n",
       "  background-color: var(--sklearn-color-unfitted-level-0);\n",
       "}\n",
       "\n",
       "#sk-container-id-1 div.sk-estimator.fitted {\n",
       "  /* fitted */\n",
       "  background-color: var(--sklearn-color-fitted-level-0);\n",
       "}\n",
       "\n",
       "/* on hover */\n",
       "#sk-container-id-1 div.sk-estimator:hover {\n",
       "  /* unfitted */\n",
       "  background-color: var(--sklearn-color-unfitted-level-2);\n",
       "}\n",
       "\n",
       "#sk-container-id-1 div.sk-estimator.fitted:hover {\n",
       "  /* fitted */\n",
       "  background-color: var(--sklearn-color-fitted-level-2);\n",
       "}\n",
       "\n",
       "/* Specification for estimator info (e.g. \"i\" and \"?\") */\n",
       "\n",
       "/* Common style for \"i\" and \"?\" */\n",
       "\n",
       ".sk-estimator-doc-link,\n",
       "a:link.sk-estimator-doc-link,\n",
       "a:visited.sk-estimator-doc-link {\n",
       "  float: right;\n",
       "  font-size: smaller;\n",
       "  line-height: 1em;\n",
       "  font-family: monospace;\n",
       "  background-color: var(--sklearn-color-background);\n",
       "  border-radius: 1em;\n",
       "  height: 1em;\n",
       "  width: 1em;\n",
       "  text-decoration: none !important;\n",
       "  margin-left: 1ex;\n",
       "  /* unfitted */\n",
       "  border: var(--sklearn-color-unfitted-level-1) 1pt solid;\n",
       "  color: var(--sklearn-color-unfitted-level-1);\n",
       "}\n",
       "\n",
       ".sk-estimator-doc-link.fitted,\n",
       "a:link.sk-estimator-doc-link.fitted,\n",
       "a:visited.sk-estimator-doc-link.fitted {\n",
       "  /* fitted */\n",
       "  border: var(--sklearn-color-fitted-level-1) 1pt solid;\n",
       "  color: var(--sklearn-color-fitted-level-1);\n",
       "}\n",
       "\n",
       "/* On hover */\n",
       "div.sk-estimator:hover .sk-estimator-doc-link:hover,\n",
       ".sk-estimator-doc-link:hover,\n",
       "div.sk-label-container:hover .sk-estimator-doc-link:hover,\n",
       ".sk-estimator-doc-link:hover {\n",
       "  /* unfitted */\n",
       "  background-color: var(--sklearn-color-unfitted-level-3);\n",
       "  color: var(--sklearn-color-background);\n",
       "  text-decoration: none;\n",
       "}\n",
       "\n",
       "div.sk-estimator.fitted:hover .sk-estimator-doc-link.fitted:hover,\n",
       ".sk-estimator-doc-link.fitted:hover,\n",
       "div.sk-label-container:hover .sk-estimator-doc-link.fitted:hover,\n",
       ".sk-estimator-doc-link.fitted:hover {\n",
       "  /* fitted */\n",
       "  background-color: var(--sklearn-color-fitted-level-3);\n",
       "  color: var(--sklearn-color-background);\n",
       "  text-decoration: none;\n",
       "}\n",
       "\n",
       "/* Span, style for the box shown on hovering the info icon */\n",
       ".sk-estimator-doc-link span {\n",
       "  display: none;\n",
       "  z-index: 9999;\n",
       "  position: relative;\n",
       "  font-weight: normal;\n",
       "  right: .2ex;\n",
       "  padding: .5ex;\n",
       "  margin: .5ex;\n",
       "  width: min-content;\n",
       "  min-width: 20ex;\n",
       "  max-width: 50ex;\n",
       "  color: var(--sklearn-color-text);\n",
       "  box-shadow: 2pt 2pt 4pt #999;\n",
       "  /* unfitted */\n",
       "  background: var(--sklearn-color-unfitted-level-0);\n",
       "  border: .5pt solid var(--sklearn-color-unfitted-level-3);\n",
       "}\n",
       "\n",
       ".sk-estimator-doc-link.fitted span {\n",
       "  /* fitted */\n",
       "  background: var(--sklearn-color-fitted-level-0);\n",
       "  border: var(--sklearn-color-fitted-level-3);\n",
       "}\n",
       "\n",
       ".sk-estimator-doc-link:hover span {\n",
       "  display: block;\n",
       "}\n",
       "\n",
       "/* \"?\"-specific style due to the `<a>` HTML tag */\n",
       "\n",
       "#sk-container-id-1 a.estimator_doc_link {\n",
       "  float: right;\n",
       "  font-size: 1rem;\n",
       "  line-height: 1em;\n",
       "  font-family: monospace;\n",
       "  background-color: var(--sklearn-color-background);\n",
       "  border-radius: 1rem;\n",
       "  height: 1rem;\n",
       "  width: 1rem;\n",
       "  text-decoration: none;\n",
       "  /* unfitted */\n",
       "  color: var(--sklearn-color-unfitted-level-1);\n",
       "  border: var(--sklearn-color-unfitted-level-1) 1pt solid;\n",
       "}\n",
       "\n",
       "#sk-container-id-1 a.estimator_doc_link.fitted {\n",
       "  /* fitted */\n",
       "  border: var(--sklearn-color-fitted-level-1) 1pt solid;\n",
       "  color: var(--sklearn-color-fitted-level-1);\n",
       "}\n",
       "\n",
       "/* On hover */\n",
       "#sk-container-id-1 a.estimator_doc_link:hover {\n",
       "  /* unfitted */\n",
       "  background-color: var(--sklearn-color-unfitted-level-3);\n",
       "  color: var(--sklearn-color-background);\n",
       "  text-decoration: none;\n",
       "}\n",
       "\n",
       "#sk-container-id-1 a.estimator_doc_link.fitted:hover {\n",
       "  /* fitted */\n",
       "  background-color: var(--sklearn-color-fitted-level-3);\n",
       "}\n",
       "</style><div id=\"sk-container-id-1\" class=\"sk-top-container\"><div class=\"sk-text-repr-fallback\"><pre>LinearRegression()</pre><b>In a Jupyter environment, please rerun this cell to show the HTML representation or trust the notebook. <br />On GitHub, the HTML representation is unable to render, please try loading this page with nbviewer.org.</b></div><div class=\"sk-container\" hidden><div class=\"sk-item\"><div class=\"sk-estimator fitted sk-toggleable\"><input class=\"sk-toggleable__control sk-hidden--visually\" id=\"sk-estimator-id-1\" type=\"checkbox\" checked><label for=\"sk-estimator-id-1\" class=\"sk-toggleable__label fitted sk-toggleable__label-arrow fitted\">&nbsp;&nbsp;LinearRegression<a class=\"sk-estimator-doc-link fitted\" rel=\"noreferrer\" target=\"_blank\" href=\"https://scikit-learn.org/1.5/modules/generated/sklearn.linear_model.LinearRegression.html\">?<span>Documentation for LinearRegression</span></a><span class=\"sk-estimator-doc-link fitted\">i<span>Fitted</span></span></label><div class=\"sk-toggleable__content fitted\"><pre>LinearRegression()</pre></div> </div></div></div></div>"
      ],
      "text/plain": [
       "LinearRegression()"
      ]
     },
     "execution_count": 5,
     "metadata": {},
     "output_type": "execute_result"
    }
   ],
   "source": [
    "weights = triangular_kernel(df.pov_index, h)\n",
    "model_treated, model_control = LinearRegression(), LinearRegression()\n",
    "model_treated.fit(y=df.loc[df.pov_index > 0, \"conspcfood_t1\"].values.reshape(-1, 1),\n",
    "                  X=df.loc[df.pov_index > 0, \"pov_index\"].values.reshape(-1, 1),\n",
    "                  sample_weight=weights[df.pov_index > 0])\n",
    "model_control.fit(y=df.loc[df.pov_index < 0, \"conspcfood_t1\"].values.reshape(-1, 1),\n",
    "                  X=df.loc[df.pov_index < 0, \"pov_index\"].values.reshape(-1, 1),\n",
    "                  sample_weight=weights[df.pov_index < 0])"
   ]
  },
  {
   "cell_type": "markdown",
   "metadata": {
    "id": "MC5vPB-I1jeH"
   },
   "source": [
    "The treatment effect at the cutoff point is estimated as the difference between the predictions of the two models at the cutoff point."
   ]
  },
  {
   "cell_type": "code",
   "execution_count": 6,
   "metadata": {
    "id": "279my1C8o9a3"
   },
   "outputs": [
    {
     "data": {
      "text/plain": [
       "np.float64(-22.105321594809652)"
      ]
     },
     "execution_count": 6,
     "metadata": {},
     "output_type": "execute_result"
    }
   ],
   "source": [
    "cutoff = 0\n",
    "treatment_effect = model_treated.predict(np.array([cutoff]).reshape(-1, 1))\n",
    "treatment_effect -= model_control.predict(np.array([cutoff]).reshape(-1, 1))\n",
    "treatment_effect[0, 0]"
   ]
  },
  {
   "cell_type": "markdown",
   "metadata": {
    "id": "uW6PYdz-BESB"
   },
   "source": [
    "We estimate that the participation in the program reduced food consumption by $22.1$ units in the year following the intervention.The following plot visualizes the two weighted regressions at the cut-off for the last outcome variable (for food consumption in `t1`). We can clearly see the \"jump\" at the cut-off, which is our LATE."
   ]
  },
  {
   "cell_type": "code",
   "execution_count": 7,
   "metadata": {
    "id": "uvONPb44A56z"
   },
   "outputs": [
    {
     "data": {
      "image/png": "[encoded data removed]",
      "text/plain": [
       "<Figure size 640x480 with 1 Axes>"
      ]
     },
     "metadata": {},
     "output_type": "display_data"
    }
   ],
   "source": [
    "plt.scatter(df.pov_index, df.conspcfood_t1, s=10, color='black')  # s controls the size\n",
    "neg_xval = np.linspace(-0.1, 0, 100)\n",
    "neg_line = model_control.predict(neg_xval.reshape(-1, 1))\n",
    "pos_xval = np.linspace(0, 0.1, 100)\n",
    "pos_line = model_treated.predict(pos_xval.reshape(-1, 1))\n",
    "plt.plot(neg_xval, neg_line, linewidth=3, label=\"Control Regression\")\n",
    "plt.plot(pos_xval, pos_line, linewidth=3, label=\"Treated Regression\")\n",
    "plt.axvline(x=0, color='red', linestyle='--', label=\"Cut-Off\")\n",
    "plt.legend()\n",
    "plt.xlim(-0.1, 0.1)\n",
    "plt.ylim(250, 350)\n",
    "plt.show()"
   ]
  },
  {
   "cell_type": "markdown",
   "metadata": {
    "id": "W6MN7zBmAxn9"
   },
   "source": [
    "We can repeat the estimation using the `rdd` package, which yields us an estimate as well as a confidence band calculated according to the formulas presented in the book. We look at all four targets."
   ]
  },
  {
   "cell_type": "code",
   "execution_count": 8,
   "metadata": {
    "id": "Xkqz2Bk_56v4"
   },
   "outputs": [
    {
     "data": {
      "text/plain": [
       "np.int64(289)"
      ]
     },
     "execution_count": 8,
     "metadata": {},
     "output_type": "execute_result"
    }
   ],
   "source": [
    "df.pov_index.duplicated().sum()"
   ]
  },
  {
   "cell_type": "code",
   "execution_count": null,
   "metadata": {},
   "outputs": [
    {
     "data": {
      "text/html": [
       "<div>\n",
       "<style scoped>\n",
       "    .dataframe tbody tr th:only-of-type {\n",
       "        vertical-align: middle;\n",
       "    }\n",
       "\n",
       "    .dataframe tbody tr th {\n",
       "        vertical-align: top;\n",
       "    }\n",
       "\n",
       "    .dataframe thead th {\n",
       "        text-align: right;\n",
       "    }\n",
       "</style>\n",
       "<table border=\"1\" class=\"dataframe\">\n",
       "  <thead>\n",
       "    <tr style=\"text-align: right;\">\n",
       "      <th></th>\n",
       "      <th>LATE</th>\n",
       "      <th>CI Lower</th>\n",
       "      <th>CI Upper</th>\n",
       "    </tr>\n",
       "  </thead>\n",
       "  <tbody>\n",
       "    <tr>\n",
       "      <th>Food T_1</th>\n",
       "      <td>-22.161738</td>\n",
       "      <td>-48.649306</td>\n",
       "      <td>58.979166</td>\n",
       "    </tr>\n",
       "    <tr>\n",
       "      <th>Non-Food T_1</th>\n",
       "      <td>-9.135265</td>\n",
       "      <td>-44.845723</td>\n",
       "      <td>41.127470</td>\n",
       "    </tr>\n",
       "    <tr>\n",
       "      <th>Food T_2</th>\n",
       "      <td>54.956943</td>\n",
       "      <td>-39.691095</td>\n",
       "      <td>148.937449</td>\n",
       "    </tr>\n",
       "    <tr>\n",
       "      <th>Non-Food T_2</th>\n",
       "      <td>43.806595</td>\n",
       "      <td>-29.685101</td>\n",
       "      <td>97.133561</td>\n",
       "    </tr>\n",
       "  </tbody>\n",
       "</table>\n",
       "</div>"
      ],
      "text/plain": [
       "                   LATE   CI Lower    CI Upper\n",
       "Food T_1     -22.161738 -48.649306   58.979166\n",
       "Non-Food T_1  -9.135265 -44.845723   41.127470\n",
       "Food T_2      54.956943 -39.691095  148.937449\n",
       "Non-Food T_2  43.806595 -29.685101   97.133561"
      ]
     },
     "execution_count": 28,
     "metadata": {},
     "output_type": "execute_result"
    }
   ],
   "source": [
    "result = []\n",
    "for outcome in [\"conspcfood_t1\", \"conspcnonfood_t1\", \"conspcfood_t2\", \"conspcnonfood_t2\"]:\n",
    "    rdd_result = rdrobust(x=df.pov_index, y=df[outcome], rho=1, masspoints=\"off\")\n",
    "    # ci는 DataFrame 형태로, index가 [\"Conventional\",\"Bias-Corrected\",\"Robust\"]임을 가정\n",
    "    ci_bc_lower = rdd_result.ci.loc[\"Robust\", \"CI Lower\"]\n",
    "    ci_bc_upper = rdd_result.ci.loc[\"Robust\", \"CI Upper\"]\n",
    "    result.append([rdd_result.coef.iloc[0].values[0], ci_bc_lower, ci_bc_upper])\n",
    "res_dataframe = pd.DataFrame(result, columns=[\"LATE\", \"CI Lower\", \"CI Upper\"],\n",
    "                             index=[\"Food T_1\", \"Non-Food T_1\", \"Food T_2\", \"Non-Food T_2\"])\n",
    "res_dataframe"
   ]
  },
  {
   "cell_type": "code",
   "execution_count": 25,
   "metadata": {
    "id": "6rLo9c_YGWIq"
   },
   "outputs": [
    {
     "data": {
      "text/html": [
       "<div>\n",
       "<style scoped>\n",
       "    .dataframe tbody tr th:only-of-type {\n",
       "        vertical-align: middle;\n",
       "    }\n",
       "\n",
       "    .dataframe tbody tr th {\n",
       "        vertical-align: top;\n",
       "    }\n",
       "\n",
       "    .dataframe thead th {\n",
       "        text-align: right;\n",
       "    }\n",
       "</style>\n",
       "<table border=\"1\" class=\"dataframe\">\n",
       "  <thead>\n",
       "    <tr style=\"text-align: right;\">\n",
       "      <th></th>\n",
       "      <th>LATE</th>\n",
       "      <th>s.e.</th>\n",
       "    </tr>\n",
       "  </thead>\n",
       "  <tbody>\n",
       "    <tr>\n",
       "      <th>Food T_1</th>\n",
       "      <td>-22.161738</td>\n",
       "      <td>27.456747</td>\n",
       "    </tr>\n",
       "    <tr>\n",
       "      <th>Non-Food T_1</th>\n",
       "      <td>-9.135265</td>\n",
       "      <td>21.932340</td>\n",
       "    </tr>\n",
       "    <tr>\n",
       "      <th>Food T_2</th>\n",
       "      <td>54.956943</td>\n",
       "      <td>48.120411</td>\n",
       "    </tr>\n",
       "    <tr>\n",
       "      <th>Non-Food T_2</th>\n",
       "      <td>43.806595</td>\n",
       "      <td>32.352294</td>\n",
       "    </tr>\n",
       "  </tbody>\n",
       "</table>\n",
       "</div>"
      ],
      "text/plain": [
       "                   LATE       s.e.\n",
       "Food T_1     -22.161738  27.456747\n",
       "Non-Food T_1  -9.135265  21.932340\n",
       "Food T_2      54.956943  48.120411\n",
       "Non-Food T_2  43.806595  32.352294"
      ]
     },
     "execution_count": 25,
     "metadata": {},
     "output_type": "execute_result"
    }
   ],
   "source": [
    "result = []\n",
    "for outcome in [\"conspcfood_t1\", \"conspcnonfood_t1\", \"conspcfood_t2\", \"conspcnonfood_t2\"]:\n",
    "    rdd_result = rdrobust(x=df.pov_index, y=df[outcome], rho=1, masspoints=\"off\")\n",
    "    result.append([rdd_result.coef.iloc[0].values[0], rdd_result.se.iloc[2].values[0]])\n",
    "res_dataframe = pd.DataFrame(result, columns=[\"LATE\", \"s.e.\"],\n",
    "                             index=[\"Food T_1\", \"Non-Food T_1\", \"Food T_2\", \"Non-Food T_2\"])\n",
    "res_dataframe"
   ]
  },
  {
   "cell_type": "markdown",
   "metadata": {
    "id": "BzzCc3oWZycJ"
   },
   "source": [
    "While the effects in the first year after the intervention are negative, we observe significant positive effects in the second year after an individual or household was accepted in the *Progresa* program. This is in accordance to the previous analysis of this dataset. One possible explanation for this is that the program households have more money and can thus afford more. This was the desired effect of the program to combat hunger and extreme poverty."
   ]
  },
  {
   "cell_type": "markdown",
   "metadata": {
    "id": "hDEf53bE-Aki"
   },
   "source": [
    "## Estimation with Covariates\n",
    "\n",
    "For the identification and estimation of the average treatment effect at the cutoff value no covariate information is required except the running variable, but nevertheless in many applications additional covariates are collected which might be exploited for the analysis to improve the efficiency of the estimates.\n",
    "\n",
    "The standard approach is simply to take up the regressors in the weighted least squares regression."
   ]
  },
  {
   "cell_type": "code",
   "execution_count": 10,
   "metadata": {
    "id": "JRdUQ8gcsGCg"
   },
   "outputs": [
    {
     "data": {
      "text/plain": [
       "np.float64(-23.78101031569355)"
      ]
     },
     "execution_count": 10,
     "metadata": {},
     "output_type": "execute_result"
    }
   ],
   "source": [
    "model_treated, model_control = LinearRegression(), LinearRegression()\n",
    "model_treated.fit(y=df.loc[df.pov_index > 0, \"conspcfood_t1\"].values.reshape(-1, 1),\n",
    "                  X=df.loc[df.pov_index > 0, [\"pov_index\", \"hhownhouse\", \"headage\", \"heademp\", \"headeduc\"]],\n",
    "                  sample_weight=weights[df.pov_index > 0])\n",
    "model_control.fit(y=df.loc[df.pov_index < 0, \"conspcfood_t1\"].values.reshape(-1, 1),\n",
    "                  X=df.loc[df.pov_index < 0, [\"pov_index\", \"hhownhouse\", \"headage\", \"heademp\", \"headeduc\"]],\n",
    "                  sample_weight=weights[df.pov_index < 0])\n",
    "pred_t = model_treated.predict(pd.DataFrame({\"pov_index\": cutoff,\n",
    "                                             \"hhownhouse\": np.average(df.loc[df.pov_index > 0, \"hhownhouse\"],\n",
    "                                                                      weights=weights[df.pov_index > 0]),\n",
    "                                             \"headage\": np.average(df.loc[df.pov_index > 0, \"headage\"],\n",
    "                                                                   weights=weights[df.pov_index > 0]),\n",
    "                                             \"heademp\": np.average(df.loc[df.pov_index > 0, \"heademp\"],\n",
    "                                                                   weights=weights[df.pov_index > 0]),\n",
    "                                             \"headeduc\": np.average(df.loc[df.pov_index > 0, \"headeduc\"],\n",
    "                                                                    weights=weights[df.pov_index > 0])},\n",
    "                                            index=[0]))\n",
    "pred_c = model_control.predict(pd.DataFrame({\"pov_index\": cutoff,\n",
    "                                             \"hhownhouse\": np.average(df.loc[df.pov_index < 0, \"hhownhouse\"],\n",
    "                                                                      weights=weights[df.pov_index < 0]),\n",
    "                                             \"headage\": np.average(df.loc[df.pov_index < 0, \"headage\"],\n",
    "                                                                   weights=weights[df.pov_index < 0]),\n",
    "                                             \"heademp\": np.average(df.loc[df.pov_index < 0, \"heademp\"],\n",
    "                                                                   weights=weights[df.pov_index < 0]),\n",
    "                                             \"headeduc\": np.average(df.loc[df.pov_index < 0, \"headeduc\"],\n",
    "                                                                    weights=weights[df.pov_index < 0])},\n",
    "                                            index=[0]))\n",
    "treatment_effect = pred_t - pred_c\n",
    "treatment_effect[0][0]"
   ]
  },
  {
   "cell_type": "markdown",
   "metadata": {
    "id": "Mlc6ZqDuMfl8"
   },
   "source": [
    "Including these selected covariates does not have a significant impact on the LATE estimation. Again, we can also use `rdd` to repeat the estimation with all other outcomes.\n"
   ]
  },
  {
   "cell_type": "code",
   "execution_count": 11,
   "metadata": {
    "id": "GZdzDHEdOt-j"
   },
   "outputs": [
    {
     "data": {
      "text/html": [
       "<div>\n",
       "<style scoped>\n",
       "    .dataframe tbody tr th:only-of-type {\n",
       "        vertical-align: middle;\n",
       "    }\n",
       "\n",
       "    .dataframe tbody tr th {\n",
       "        vertical-align: top;\n",
       "    }\n",
       "\n",
       "    .dataframe thead th {\n",
       "        text-align: right;\n",
       "    }\n",
       "</style>\n",
       "<table border=\"1\" class=\"dataframe\">\n",
       "  <thead>\n",
       "    <tr style=\"text-align: right;\">\n",
       "      <th></th>\n",
       "      <th>LATE</th>\n",
       "      <th>s.e.</th>\n",
       "    </tr>\n",
       "  </thead>\n",
       "  <tbody>\n",
       "    <tr>\n",
       "      <th>Food T_1</th>\n",
       "      <td>-22.161738</td>\n",
       "      <td>27.456747</td>\n",
       "    </tr>\n",
       "    <tr>\n",
       "      <th>Non-Food T_1</th>\n",
       "      <td>-9.135265</td>\n",
       "      <td>21.932340</td>\n",
       "    </tr>\n",
       "    <tr>\n",
       "      <th>Food T_2</th>\n",
       "      <td>54.956943</td>\n",
       "      <td>48.120411</td>\n",
       "    </tr>\n",
       "    <tr>\n",
       "      <th>Non-Food T_2</th>\n",
       "      <td>43.806595</td>\n",
       "      <td>32.352294</td>\n",
       "    </tr>\n",
       "  </tbody>\n",
       "</table>\n",
       "</div>"
      ],
      "text/plain": [
       "                   LATE       s.e.\n",
       "Food T_1     -22.161738  27.456747\n",
       "Non-Food T_1  -9.135265  21.932340\n",
       "Food T_2      54.956943  48.120411\n",
       "Non-Food T_2  43.806595  32.352294"
      ]
     },
     "execution_count": 11,
     "metadata": {},
     "output_type": "execute_result"
    }
   ],
   "source": [
    "res_dataframe"
   ]
  },
  {
   "cell_type": "code",
   "execution_count": 12,
   "metadata": {
    "id": "OYQuZcvjyYx6"
   },
   "outputs": [
    {
     "data": {
      "text/html": [
       "<div>\n",
       "<style scoped>\n",
       "    .dataframe tbody tr th:only-of-type {\n",
       "        vertical-align: middle;\n",
       "    }\n",
       "\n",
       "    .dataframe tbody tr th {\n",
       "        vertical-align: top;\n",
       "    }\n",
       "\n",
       "    .dataframe thead th {\n",
       "        text-align: right;\n",
       "    }\n",
       "</style>\n",
       "<table border=\"1\" class=\"dataframe\">\n",
       "  <thead>\n",
       "    <tr style=\"text-align: right;\">\n",
       "      <th></th>\n",
       "      <th>LATE</th>\n",
       "      <th>s.e.</th>\n",
       "      <th>% reduction</th>\n",
       "    </tr>\n",
       "  </thead>\n",
       "  <tbody>\n",
       "    <tr>\n",
       "      <th>Food T_1</th>\n",
       "      <td>-27.137309</td>\n",
       "      <td>21.871141</td>\n",
       "      <td>-20.343291</td>\n",
       "    </tr>\n",
       "    <tr>\n",
       "      <th>Non-Food T_1</th>\n",
       "      <td>-5.068397</td>\n",
       "      <td>20.534658</td>\n",
       "      <td>-6.372699</td>\n",
       "    </tr>\n",
       "    <tr>\n",
       "      <th>Food T_2</th>\n",
       "      <td>57.286722</td>\n",
       "      <td>44.369975</td>\n",
       "      <td>-7.793856</td>\n",
       "    </tr>\n",
       "    <tr>\n",
       "      <th>Non-Food T_2</th>\n",
       "      <td>47.665945</td>\n",
       "      <td>29.601985</td>\n",
       "      <td>-8.501124</td>\n",
       "    </tr>\n",
       "  </tbody>\n",
       "</table>\n",
       "</div>"
      ],
      "text/plain": [
       "                   LATE       s.e.  % reduction\n",
       "Food T_1     -27.137309  21.871141   -20.343291\n",
       "Non-Food T_1  -5.068397  20.534658    -6.372699\n",
       "Food T_2      57.286722  44.369975    -7.793856\n",
       "Non-Food T_2  47.665945  29.601985    -8.501124"
      ]
     },
     "execution_count": 12,
     "metadata": {},
     "output_type": "execute_result"
    }
   ],
   "source": [
    "result = []\n",
    "for outcome in [\"conspcfood_t1\", \"conspcnonfood_t1\", \"conspcfood_t2\", \"conspcnonfood_t2\"]:\n",
    "    rdd_result = rdrobust(x=df.pov_index, y=df[outcome], rho=1, masspoints=\"off\",\n",
    "                          covs=df.iloc[:, [0, 1, 2, 3, 4, 5, 6, 7, 10, 11, 12, 13, 14, 15, 16, 18, 21]])\n",
    "    result.append([rdd_result.coef.iloc[0].values[0], rdd_result.se.iloc[2].values[0]])\n",
    "res_dataframe_adj = pd.DataFrame(result, columns=[\"LATE\", \"s.e.\"],\n",
    "                                 index=[\"Food T_1\", \"Non-Food T_1\", \"Food T_2\", \"Non-Food T_2\"])\n",
    "res_dataframe_adj[\"% reduction\"] = (res_dataframe_adj[\"s.e.\"] - res_dataframe[\"s.e.\"]) * 100 / res_dataframe[\"s.e.\"]\n",
    "res_dataframe_adj"
   ]
  },
  {
   "cell_type": "markdown",
   "metadata": {
    "id": "5q8S0wNhabWy"
   },
   "source": [
    "Overall, the adjustment by only a few covariates has not changed the estimated coefficient much from the result without covariates. However, including covariates does reduce the standard deviation of the estimation."
   ]
  },
  {
   "cell_type": "markdown",
   "metadata": {
    "id": "9U8UkHmv-D-0"
   },
   "source": [
    "## Estimation using ML"
   ]
  },
  {
   "cell_type": "markdown",
   "metadata": {
    "id": "NiYSglH9E0Er"
   },
   "source": [
    "As discussed in the book, including many covariates in RDD estimation can be beneficial for multiple reasons:\n",
    "1. **Efficiency and power improvements**: As in randomized control trials, using covariates can increase efficiency and improve power.\n",
    "2. **Auxiliary information**: In RDD the score determines the treatment assignment and measurement errors in the running variable can distort the results. Additional covariates can be exploited to overcome these issues or to deal with missing data problems.\n",
    "3. **Treatment effect heterogeneity**: Covariates can be used to define subgroups in which the treatment effects differ.\n",
    "4. **Other parameters of interest and extrapolation**: As the identified treatment effect in RDD is local at the cutoff, additional covariates might help for extrapolation of the treatment effects or identify other causal parameters.\n",
    "\n",
    "However, including a high number of covariates also comes with additional challenges, such as variables selection, non-linearities or interactions between covariates. The best way to overcome these is the use of modern ML methods.\n",
    "\n",
    "There are multiple ways to implement the estimators presented in the book, we will closely follow the analysis of [Noack et al. (2023)](https://arxiv.org/pdf/2107.07942.pdf). We set up running variable and outcome as above. The baseline covariates will be all the other variables in the data."
   ]
  },
  {
   "cell_type": "code",
   "execution_count": 13,
   "metadata": {
    "id": "n2uoMwzkCq4P"
   },
   "outputs": [],
   "source": [
    "# Running Variable and Outcome\n",
    "investigated_outcome = \"conspcfood_t1\"\n",
    "df_ml = df.rename(columns={\"pov_index\": \"X\", investigated_outcome: \"Y\"})\n",
    "\n",
    "# Baseline covariates including consumption\n",
    "b_covs = df_ml.columns[[0, 1, 2, 3, 4, 5, 6, 7, 10, 11, 12, 13, 14, 15, 16, 18, 21]]\n",
    "\n",
    "# Fixed effects for localities\n",
    "i_fe = pd.get_dummies(df_ml['clus'], drop_first=True)\n",
    "\n",
    "# Flexible covariates including localities indicators\n",
    "f_covs = patsy.dmatrix('~ (' + ' + '.join(b_covs) + ')**2', data=df_ml, return_type='dataframe')\n",
    "\n",
    "# Dropping the intercept column that is automatically added by patsy\n",
    "f_covs = f_covs.iloc[:, 1:]\n",
    "\n",
    "Z_lasso = pd.concat([i_fe, f_covs], axis=1)"
   ]
  },
  {
   "cell_type": "markdown",
   "metadata": {
    "id": "2n8yvua4Ns_A"
   },
   "source": [
    "We will use the package `rdrobust` for the RD estimation. Before starting the DML procedure, we have to estimate a bandwidth to restrict the samples in the first stage estimation."
   ]
  },
  {
   "cell_type": "code",
   "execution_count": 14,
   "metadata": {
    "id": "VIO-PQEtOKob"
   },
   "outputs": [],
   "source": [
    "h_fs = rdrobust(y=df_ml.Y, x=df_ml.X, masspoints=\"off\").bws.values[1, 0]"
   ]
  },
  {
   "cell_type": "markdown",
   "metadata": {
    "id": "nm8BC6JTQnV7"
   },
   "source": [
    "The next chunk sets up the crossfitting and estimates the function $\\eta(Z)$, which we will use to adjust $Y$ for the second stage. We use Random Forest, a Boosting implementation, Linear Regression and Lasso with both a baseline and flexible covariate structure."
   ]
  },
  {
   "cell_type": "code",
   "execution_count": 15,
   "metadata": {
    "id": "y-tGMe5iQhVd"
   },
   "outputs": [],
   "source": [
    "def first_stage(df_ml, b_covs, h_fs, Z_lasso, Kf=5, random_seed=123):\n",
    "    '''\n",
    "    df_ml: dataframe\n",
    "    b_covs: which columns of the data frame will be used as baseline covariates\n",
    "    h_fs: bandwidth around discontinuity for training points\n",
    "    Z_lasso: dataframe with extra baseline covariates in high-dimensional specification\n",
    "    '''\n",
    "    # Set up the cross-fitting\n",
    "    n = df_ml.shape[0]\n",
    "    # Matrix to store eta predictions\n",
    "    eta_fit = np.empty((n, 5))\n",
    "\n",
    "    # Create vector of observations to be considered in the first stage model\n",
    "    weights = np.abs(df_ml.X) < h_fs\n",
    "\n",
    "    for train, test in KFold(shuffle=True, n_splits=Kf, random_state=random_seed).split(df_ml.X, df_ml.Y):\n",
    "\n",
    "        df_train = df_ml.iloc[train]\n",
    "        treated_train = (df_train.X > 0) & (weights.iloc[train] > 0)\n",
    "        control_train = (df_train.X < 0) & (weights.iloc[train] > 0)\n",
    "        data_treated = df_train[treated_train]\n",
    "        data_control = df_train[control_train]\n",
    "\n",
    "        data_fold = df_ml.iloc[test]\n",
    "\n",
    "        rf1 = RandomForestRegressor(max_features=4, n_estimators=1000, random_state=random_seed)\n",
    "        rf1.fit(data_treated[b_covs], data_treated.Y)\n",
    "        rf0 = RandomForestRegressor(max_features=4, n_estimators=1000, random_state=random_seed)\n",
    "        rf0.fit(data_control[b_covs], data_control.Y)\n",
    "        eta_fit[test, 0] = (rf1.predict(data_fold[b_covs]) + rf0.predict(data_fold[b_covs])) / 2\n",
    "\n",
    "        lgbm1 = LGBMRegressor(verbosity=-1, random_state=random_seed)\n",
    "        lgbm1.fit(data_treated[b_covs], data_treated.Y)\n",
    "        lgbm0 = LGBMRegressor(verbosity=-1, random_state=random_seed)\n",
    "        lgbm0.fit(data_control[b_covs], data_control.Y)\n",
    "        eta_fit[test, 1] = (lgbm1.predict(data_fold[b_covs]) + lgbm0.predict(data_fold[b_covs])) / 2\n",
    "\n",
    "        lm1 = LinearRegression()\n",
    "        lm1.fit(data_treated[b_covs], data_treated.Y)\n",
    "        lm0 = LinearRegression()\n",
    "        lm0.fit(y=data_control.Y, X=data_control[b_covs])\n",
    "        eta_fit[test, 2] = (lm1.predict(data_fold[b_covs]) + lm0.predict(data_fold[b_covs])) / 2\n",
    "\n",
    "        las_base1 = LassoCV(random_state=random_seed)\n",
    "        las_base1.fit(data_treated[b_covs], data_treated.Y)\n",
    "        las_base0 = LassoCV(random_state=random_seed)\n",
    "        las_base0.fit(data_control[b_covs], data_control.Y)\n",
    "        eta_fit[test, 3] = (las_base1.predict(data_fold[b_covs]) + las_base0.predict(data_fold[b_covs])) / 2\n",
    "\n",
    "        X_flex_treated = pd.concat([Z_lasso.loc[data_treated.index], data_treated[b_covs]], axis=1)\n",
    "        X_flex_control = pd.concat([Z_lasso.loc[data_control.index], data_control[b_covs]], axis=1)\n",
    "        X_flex_fold = pd.concat([Z_lasso.loc[data_fold.index], data_fold[b_covs]], axis=1)\n",
    "        X_flex_treated.columns = X_flex_treated.columns.astype(str)\n",
    "        X_flex_control.columns = X_flex_control.columns.astype(str)\n",
    "        X_flex_fold.columns = X_flex_fold.columns.astype(str)\n",
    "        las_flex1 = LassoCV(random_state=random_seed)\n",
    "        las_flex1.fit(X_flex_treated, data_treated.Y)\n",
    "        las_flex0 = LassoCV(random_state=random_seed)\n",
    "        las_flex0.fit(X_flex_control, data_control.Y)\n",
    "        eta_fit[test, 4] = (las_flex1.predict(X_flex_fold) + las_flex0.predict(X_flex_fold)) / 2\n",
    "\n",
    "    return eta_fit"
   ]
  },
  {
   "cell_type": "code",
   "execution_count": 16,
   "metadata": {},
   "outputs": [],
   "source": [
    "eta_fit = first_stage(df_ml, b_covs, h_fs, Z_lasso, random_seed=0)"
   ]
  },
  {
   "cell_type": "markdown",
   "metadata": {
    "id": "ybTRUohWi_xE"
   },
   "source": [
    "With the estimated $\\hat{\\eta}(Z)$ we can correct for confounding in $Y$ and now run the RD estimation as second stage again."
   ]
  },
  {
   "cell_type": "code",
   "execution_count": 17,
   "metadata": {
    "id": "WdJkfePmx4iN"
   },
   "outputs": [],
   "source": [
    "methods = [\"Random Forest\", \"Gradient Boosting\", \"Linear Regression\",\n",
    "           \"Lasso Baseline\", \"Lasso Flexible\"]\n",
    "\n",
    "\n",
    "def second_stage(df_ml, eta_fit, methods):\n",
    "    adj_results = []\n",
    "    for i in range(len(methods)):\n",
    "        M_Y = df_ml.Y - eta_fit[:, i]\n",
    "        rd_call = rdrobust(y=M_Y, x=df_ml.X, masspoints=\"off\")\n",
    "        adj_results.append([rd_call.coef.iloc[0].values[0],\n",
    "                            rd_call.se.iloc[2].values[0]])\n",
    "    return adj_results"
   ]
  },
  {
   "cell_type": "code",
   "execution_count": 18,
   "metadata": {},
   "outputs": [
    {
     "data": {
      "text/html": [
       "<div>\n",
       "<style scoped>\n",
       "    .dataframe tbody tr th:only-of-type {\n",
       "        vertical-align: middle;\n",
       "    }\n",
       "\n",
       "    .dataframe tbody tr th {\n",
       "        vertical-align: top;\n",
       "    }\n",
       "\n",
       "    .dataframe thead th {\n",
       "        text-align: right;\n",
       "    }\n",
       "</style>\n",
       "<table border=\"1\" class=\"dataframe\">\n",
       "  <thead>\n",
       "    <tr style=\"text-align: right;\">\n",
       "      <th></th>\n",
       "      <th>LATE</th>\n",
       "      <th>s.e.</th>\n",
       "    </tr>\n",
       "  </thead>\n",
       "  <tbody>\n",
       "    <tr>\n",
       "      <th>Random Forest</th>\n",
       "      <td>-20.227655</td>\n",
       "      <td>20.225402</td>\n",
       "    </tr>\n",
       "    <tr>\n",
       "      <th>Gradient Boosting</th>\n",
       "      <td>-21.374916</td>\n",
       "      <td>21.568640</td>\n",
       "    </tr>\n",
       "    <tr>\n",
       "      <th>Linear Regression</th>\n",
       "      <td>-25.966556</td>\n",
       "      <td>20.486914</td>\n",
       "    </tr>\n",
       "    <tr>\n",
       "      <th>Lasso Baseline</th>\n",
       "      <td>-22.671521</td>\n",
       "      <td>20.249264</td>\n",
       "    </tr>\n",
       "    <tr>\n",
       "      <th>Lasso Flexible</th>\n",
       "      <td>-22.103120</td>\n",
       "      <td>20.289907</td>\n",
       "    </tr>\n",
       "  </tbody>\n",
       "</table>\n",
       "</div>"
      ],
      "text/plain": [
       "                        LATE       s.e.\n",
       "Random Forest     -20.227655  20.225402\n",
       "Gradient Boosting -21.374916  21.568640\n",
       "Linear Regression -25.966556  20.486914\n",
       "Lasso Baseline    -22.671521  20.249264\n",
       "Lasso Flexible    -22.103120  20.289907"
      ]
     },
     "execution_count": 18,
     "metadata": {},
     "output_type": "execute_result"
    }
   ],
   "source": [
    "adj_frame = pd.DataFrame(second_stage(df_ml, eta_fit, methods),\n",
    "                         columns=[\"LATE\", \"s.e.\"],\n",
    "                         index=methods)\n",
    "adj_frame"
   ]
  },
  {
   "cell_type": "markdown",
   "metadata": {
    "id": "dWRrjcieIKwk"
   },
   "source": [
    "Finally, we create a small simulation study with only $R=20$ repetitions to show the variance reducing effect of the inclusion of ML-based estimators for the covariates. The next block runs up to ten minutes."
   ]
  },
  {
   "cell_type": "code",
   "execution_count": 19,
   "metadata": {
    "id": "3DxmPT9LIJ3E"
   },
   "outputs": [
    {
     "name": "stderr",
     "output_type": "stream",
     "text": [
      "[Parallel(n_jobs=-1)]: Using backend LokyBackend with 8 concurrent workers.\n",
      "[Parallel(n_jobs=-1)]: Done  12 out of  20 | elapsed:   40.1s remaining:   26.8s\n",
      "[Parallel(n_jobs=-1)]: Done  20 out of  20 | elapsed:   50.1s finished\n"
     ]
    }
   ],
   "source": [
    "from joblib import Parallel, delayed\n",
    "\n",
    "\n",
    "def exp(i):\n",
    "    eta_fit = first_stage(df_ml, b_covs, h_fs, Z_lasso, random_seed=i)\n",
    "    return np.array(second_stage(df_ml, eta_fit, methods))\n",
    "\n",
    "\n",
    "results = Parallel(n_jobs=-1, verbose=3)(delayed(exp)(i) for i in range(20))\n",
    "\n",
    "estimates = [results[i][:, 0] for i in range(20)]\n",
    "std_err = [results[i][:, 1] for i in range(20)]"
   ]
  },
  {
   "cell_type": "markdown",
   "metadata": {
    "id": "W_ybpwiMS1MH"
   },
   "source": [
    "We aggregate the median of the estimates, the mean of the standard errors and also calculate the mean reduction of standard error compared to the \"no covariates\" estimation. We see, that including covariates can reduce the standard error of estimation around 15-20%."
   ]
  },
  {
   "cell_type": "code",
   "execution_count": 20,
   "metadata": {
    "id": "bzp90cR4I6RL"
   },
   "outputs": [
    {
     "data": {
      "text/html": [
       "<div>\n",
       "<style scoped>\n",
       "    .dataframe tbody tr th:only-of-type {\n",
       "        vertical-align: middle;\n",
       "    }\n",
       "\n",
       "    .dataframe tbody tr th {\n",
       "        vertical-align: top;\n",
       "    }\n",
       "\n",
       "    .dataframe thead th {\n",
       "        text-align: right;\n",
       "    }\n",
       "</style>\n",
       "<table border=\"1\" class=\"dataframe\">\n",
       "  <thead>\n",
       "    <tr style=\"text-align: right;\">\n",
       "      <th></th>\n",
       "      <th>LATE</th>\n",
       "      <th>s.e.</th>\n",
       "      <th>% reduction</th>\n",
       "    </tr>\n",
       "  </thead>\n",
       "  <tbody>\n",
       "    <tr>\n",
       "      <th>Random Forest</th>\n",
       "      <td>-20.250712</td>\n",
       "      <td>20.298422</td>\n",
       "      <td>-26.071280</td>\n",
       "    </tr>\n",
       "    <tr>\n",
       "      <th>Gradient Boosting</th>\n",
       "      <td>-22.782765</td>\n",
       "      <td>21.868563</td>\n",
       "      <td>-20.352681</td>\n",
       "    </tr>\n",
       "    <tr>\n",
       "      <th>Linear Regression</th>\n",
       "      <td>-27.039536</td>\n",
       "      <td>20.288604</td>\n",
       "      <td>-26.107039</td>\n",
       "    </tr>\n",
       "    <tr>\n",
       "      <th>Lasso Baseline</th>\n",
       "      <td>-22.437171</td>\n",
       "      <td>20.070061</td>\n",
       "      <td>-26.902992</td>\n",
       "    </tr>\n",
       "    <tr>\n",
       "      <th>Lasso Flexible</th>\n",
       "      <td>-22.859893</td>\n",
       "      <td>19.997777</td>\n",
       "      <td>-27.166255</td>\n",
       "    </tr>\n",
       "    <tr>\n",
       "      <th>Linear Adjusted (no cross-fit)</th>\n",
       "      <td>-27.137309</td>\n",
       "      <td>21.871141</td>\n",
       "      <td>-20.343291</td>\n",
       "    </tr>\n",
       "  </tbody>\n",
       "</table>\n",
       "</div>"
      ],
      "text/plain": [
       "                                     LATE       s.e.  % reduction\n",
       "Random Forest                  -20.250712  20.298422   -26.071280\n",
       "Gradient Boosting              -22.782765  21.868563   -20.352681\n",
       "Linear Regression              -27.039536  20.288604   -26.107039\n",
       "Lasso Baseline                 -22.437171  20.070061   -26.902992\n",
       "Lasso Flexible                 -22.859893  19.997777   -27.166255\n",
       "Linear Adjusted (no cross-fit) -27.137309  21.871141   -20.343291"
      ]
     },
     "execution_count": 20,
     "metadata": {},
     "output_type": "execute_result"
    }
   ],
   "source": [
    "med_est = np.median(np.array(estimates), axis=0)\n",
    "mean_se = np.array(std_err).mean(axis=0)\n",
    "adj_frame = pd.DataFrame(np.c_[med_est, mean_se], index=methods, columns=[\"LATE\", \"s.e.\"])\n",
    "adj_frame[\"% reduction\"] = (adj_frame[\"s.e.\"] - res_dataframe.loc[\"Food T_1\", \"s.e.\"]) * 100\n",
    "adj_frame[\"% reduction\"] /= res_dataframe.loc[\"Food T_1\", \"s.e.\"]\n",
    "adj_frame.loc[\"Linear Adjusted (no cross-fit)\"] = res_dataframe_adj.loc[\"Food T_1\"]\n",
    "adj_frame"
   ]
  },
  {
   "cell_type": "markdown",
   "metadata": {
    "id": "0ioABDq3TK_o"
   },
   "source": [
    "## We now repeat the exercise for the other outcomes (excluding the simulation)."
   ]
  },
  {
   "cell_type": "markdown",
   "metadata": {
    "id": "g-dLrCgrTm3n"
   },
   "source": [
    "Non-Food Consumption (Year 1)"
   ]
  },
  {
   "cell_type": "code",
   "execution_count": 21,
   "metadata": {
    "id": "zcKoNbJeTpSg"
   },
   "outputs": [
    {
     "data": {
      "text/html": [
       "<div>\n",
       "<style scoped>\n",
       "    .dataframe tbody tr th:only-of-type {\n",
       "        vertical-align: middle;\n",
       "    }\n",
       "\n",
       "    .dataframe tbody tr th {\n",
       "        vertical-align: top;\n",
       "    }\n",
       "\n",
       "    .dataframe thead th {\n",
       "        text-align: right;\n",
       "    }\n",
       "</style>\n",
       "<table border=\"1\" class=\"dataframe\">\n",
       "  <thead>\n",
       "    <tr style=\"text-align: right;\">\n",
       "      <th></th>\n",
       "      <th>LATE</th>\n",
       "      <th>s.e.</th>\n",
       "    </tr>\n",
       "  </thead>\n",
       "  <tbody>\n",
       "    <tr>\n",
       "      <th>Random Forest</th>\n",
       "      <td>-1.901128</td>\n",
       "      <td>19.096071</td>\n",
       "    </tr>\n",
       "    <tr>\n",
       "      <th>Gradient Boosting</th>\n",
       "      <td>-1.926196</td>\n",
       "      <td>20.142667</td>\n",
       "    </tr>\n",
       "    <tr>\n",
       "      <th>Linear Regression</th>\n",
       "      <td>-5.942605</td>\n",
       "      <td>19.377751</td>\n",
       "    </tr>\n",
       "    <tr>\n",
       "      <th>Lasso Baseline</th>\n",
       "      <td>-6.087564</td>\n",
       "      <td>19.472520</td>\n",
       "    </tr>\n",
       "    <tr>\n",
       "      <th>Lasso Flexible</th>\n",
       "      <td>-6.920360</td>\n",
       "      <td>19.635368</td>\n",
       "    </tr>\n",
       "  </tbody>\n",
       "</table>\n",
       "</div>"
      ],
      "text/plain": [
       "                       LATE       s.e.\n",
       "Random Forest     -1.901128  19.096071\n",
       "Gradient Boosting -1.926196  20.142667\n",
       "Linear Regression -5.942605  19.377751\n",
       "Lasso Baseline    -6.087564  19.472520\n",
       "Lasso Flexible    -6.920360  19.635368"
      ]
     },
     "execution_count": 21,
     "metadata": {},
     "output_type": "execute_result"
    }
   ],
   "source": [
    "# Running Variable and Outcome\n",
    "investigated_outcome = \"conspcnonfood_t1\"\n",
    "df_ml = df.rename(columns={\"pov_index\": \"X\", investigated_outcome: \"Y\"})\n",
    "h_fs = rdrobust(y=df_ml.Y, x=df_ml.X, masspoints=\"off\").bws.values[1, 0]\n",
    "\n",
    "eta_fit = first_stage(df_ml, b_covs, h_fs, Z_lasso)\n",
    "\n",
    "adj_frame = pd.DataFrame(second_stage(df_ml, eta_fit, methods),\n",
    "                         columns=[\"LATE\", \"s.e.\"],\n",
    "                         index=methods)\n",
    "adj_frame"
   ]
  },
  {
   "cell_type": "markdown",
   "metadata": {
    "id": "4AR3BRv7Tp2D"
   },
   "source": [
    "Food Consumption (Year 2)"
   ]
  },
  {
   "cell_type": "code",
   "execution_count": 22,
   "metadata": {
    "id": "aoFEC4l-TsIV"
   },
   "outputs": [
    {
     "data": {
      "text/html": [
       "<div>\n",
       "<style scoped>\n",
       "    .dataframe tbody tr th:only-of-type {\n",
       "        vertical-align: middle;\n",
       "    }\n",
       "\n",
       "    .dataframe tbody tr th {\n",
       "        vertical-align: top;\n",
       "    }\n",
       "\n",
       "    .dataframe thead th {\n",
       "        text-align: right;\n",
       "    }\n",
       "</style>\n",
       "<table border=\"1\" class=\"dataframe\">\n",
       "  <thead>\n",
       "    <tr style=\"text-align: right;\">\n",
       "      <th></th>\n",
       "      <th>LATE</th>\n",
       "      <th>s.e.</th>\n",
       "    </tr>\n",
       "  </thead>\n",
       "  <tbody>\n",
       "    <tr>\n",
       "      <th>Random Forest</th>\n",
       "      <td>64.305593</td>\n",
       "      <td>44.323750</td>\n",
       "    </tr>\n",
       "    <tr>\n",
       "      <th>Gradient Boosting</th>\n",
       "      <td>67.915391</td>\n",
       "      <td>44.607303</td>\n",
       "    </tr>\n",
       "    <tr>\n",
       "      <th>Linear Regression</th>\n",
       "      <td>56.020526</td>\n",
       "      <td>44.497686</td>\n",
       "    </tr>\n",
       "    <tr>\n",
       "      <th>Lasso Baseline</th>\n",
       "      <td>53.817456</td>\n",
       "      <td>45.178501</td>\n",
       "    </tr>\n",
       "    <tr>\n",
       "      <th>Lasso Flexible</th>\n",
       "      <td>54.350425</td>\n",
       "      <td>45.804702</td>\n",
       "    </tr>\n",
       "  </tbody>\n",
       "</table>\n",
       "</div>"
      ],
      "text/plain": [
       "                        LATE       s.e.\n",
       "Random Forest      64.305593  44.323750\n",
       "Gradient Boosting  67.915391  44.607303\n",
       "Linear Regression  56.020526  44.497686\n",
       "Lasso Baseline     53.817456  45.178501\n",
       "Lasso Flexible     54.350425  45.804702"
      ]
     },
     "execution_count": 22,
     "metadata": {},
     "output_type": "execute_result"
    }
   ],
   "source": [
    "# Running Variable and Outcome\n",
    "investigated_outcome = \"conspcfood_t2\"\n",
    "df_ml = df.rename(columns={\"pov_index\": \"X\", investigated_outcome: \"Y\"})\n",
    "h_fs = rdrobust(y=df_ml.Y, x=df_ml.X, masspoints=\"off\").bws.values[1, 0]\n",
    "\n",
    "eta_fit = first_stage(df_ml, b_covs, h_fs, Z_lasso)\n",
    "\n",
    "adj_frame = pd.DataFrame(second_stage(df_ml, eta_fit, methods),\n",
    "                         columns=[\"LATE\", \"s.e.\"],\n",
    "                         index=methods)\n",
    "adj_frame"
   ]
  },
  {
   "cell_type": "markdown",
   "metadata": {
    "id": "jGG6Nb_gTsdu"
   },
   "source": [
    "Non-Food Consumption (Year 2)"
   ]
  },
  {
   "cell_type": "code",
   "execution_count": 23,
   "metadata": {
    "id": "B9lCmaP1TvVz"
   },
   "outputs": [
    {
     "data": {
      "text/html": [
       "<div>\n",
       "<style scoped>\n",
       "    .dataframe tbody tr th:only-of-type {\n",
       "        vertical-align: middle;\n",
       "    }\n",
       "\n",
       "    .dataframe tbody tr th {\n",
       "        vertical-align: top;\n",
       "    }\n",
       "\n",
       "    .dataframe thead th {\n",
       "        text-align: right;\n",
       "    }\n",
       "</style>\n",
       "<table border=\"1\" class=\"dataframe\">\n",
       "  <thead>\n",
       "    <tr style=\"text-align: right;\">\n",
       "      <th></th>\n",
       "      <th>LATE</th>\n",
       "      <th>s.e.</th>\n",
       "    </tr>\n",
       "  </thead>\n",
       "  <tbody>\n",
       "    <tr>\n",
       "      <th>Random Forest</th>\n",
       "      <td>49.650400</td>\n",
       "      <td>29.936603</td>\n",
       "    </tr>\n",
       "    <tr>\n",
       "      <th>Gradient Boosting</th>\n",
       "      <td>50.910149</td>\n",
       "      <td>31.222962</td>\n",
       "    </tr>\n",
       "    <tr>\n",
       "      <th>Linear Regression</th>\n",
       "      <td>47.091932</td>\n",
       "      <td>29.978409</td>\n",
       "    </tr>\n",
       "    <tr>\n",
       "      <th>Lasso Baseline</th>\n",
       "      <td>47.438952</td>\n",
       "      <td>30.066618</td>\n",
       "    </tr>\n",
       "    <tr>\n",
       "      <th>Lasso Flexible</th>\n",
       "      <td>46.714985</td>\n",
       "      <td>30.672069</td>\n",
       "    </tr>\n",
       "  </tbody>\n",
       "</table>\n",
       "</div>"
      ],
      "text/plain": [
       "                        LATE       s.e.\n",
       "Random Forest      49.650400  29.936603\n",
       "Gradient Boosting  50.910149  31.222962\n",
       "Linear Regression  47.091932  29.978409\n",
       "Lasso Baseline     47.438952  30.066618\n",
       "Lasso Flexible     46.714985  30.672069"
      ]
     },
     "execution_count": 23,
     "metadata": {},
     "output_type": "execute_result"
    }
   ],
   "source": [
    "# Running Variable and Outcome\n",
    "investigated_outcome = \"conspcnonfood_t2\"\n",
    "df_ml = df.rename(columns={\"pov_index\": \"X\", investigated_outcome: \"Y\"})\n",
    "\n",
    "h_fs = rdrobust(y=df_ml.Y, x=df_ml.X, masspoints=\"off\").bws.values[1, 0]\n",
    "\n",
    "eta_fit = first_stage(df_ml, b_covs, h_fs, Z_lasso)\n",
    "\n",
    "adj_frame = pd.DataFrame(second_stage(df_ml, eta_fit, methods),\n",
    "                         columns=[\"LATE\", \"s.e.\"],\n",
    "                         index=methods)\n",
    "adj_frame"
   ]
  }
 ],
 "metadata": {
  "colab": {
   "provenance": []
  },
  "kernelspec": {
   "display_name": "base",
   "language": "python",
   "name": "python3"
  },
  "language_info": {
   "codemirror_mode": {
    "name": "ipython",
    "version": 3
   },
   "file_extension": ".py",
   "mimetype": "text/x-python",
   "name": "python",
   "nbconvert_exporter": "python",
   "pygments_lexer": "ipython3",
   "version": "3.12.7"
  }
 },
 "nbformat": 4,
 "nbformat_minor": 1
}
