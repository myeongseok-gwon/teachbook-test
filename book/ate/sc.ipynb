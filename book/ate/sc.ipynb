{
 "cells": [
  {
   "cell_type": "markdown",
   "metadata": {},
   "source": [
    "# Synthetic Control (SC)"
   ]
  },
  {
   "cell_type": "markdown",
   "metadata": {},
   "source": [
    "- 담배값이 오른다고 사람들이 담배 피는 양을 줄일까요, 아니면 중독된 사람들은 가격과 무관하게 피는 양이 유지될까요?\n",
    "- Proposition 99 라는 법이 캘리포니아에서 통과되었습니다. 이 법은 흡연에 대한 세금을 크게 늘리는 법이었습니다.\n",
    "- DiD에서처럼 캘리포니아와 사전평행 추세가 있는 주와 비교해도 되겠지만, Synthetic Control은 1:1 비교보다 1:N 비교를 통해 인과 효과를 확인하는 방법을 제안합니다."
   ]
  },
  {
   "cell_type": "code",
   "execution_count": 5,
   "metadata": {},
   "outputs": [
    {
     "data": {
      "text/html": [
       "<div>\n",
       "<style scoped>\n",
       "    .dataframe tbody tr th:only-of-type {\n",
       "        vertical-align: middle;\n",
       "    }\n",
       "\n",
       "    .dataframe tbody tr th {\n",
       "        vertical-align: top;\n",
       "    }\n",
       "\n",
       "    .dataframe thead th {\n",
       "        text-align: right;\n",
       "    }\n",
       "</style>\n",
       "<table border=\"1\" class=\"dataframe\">\n",
       "  <thead>\n",
       "    <tr style=\"text-align: right;\">\n",
       "      <th></th>\n",
       "      <th>state</th>\n",
       "      <th>year</th>\n",
       "      <th>cigsale</th>\n",
       "      <th>lnincome</th>\n",
       "      <th>beer</th>\n",
       "      <th>age15to24</th>\n",
       "      <th>retprice</th>\n",
       "      <th>california</th>\n",
       "      <th>after_treatment</th>\n",
       "    </tr>\n",
       "  </thead>\n",
       "  <tbody>\n",
       "    <tr>\n",
       "      <th>62</th>\n",
       "      <td>3</td>\n",
       "      <td>1970</td>\n",
       "      <td>123.000000</td>\n",
       "      <td>NaN</td>\n",
       "      <td>NaN</td>\n",
       "      <td>0.178158</td>\n",
       "      <td>38.799999</td>\n",
       "      <td>True</td>\n",
       "      <td>False</td>\n",
       "    </tr>\n",
       "    <tr>\n",
       "      <th>63</th>\n",
       "      <td>3</td>\n",
       "      <td>1971</td>\n",
       "      <td>121.000000</td>\n",
       "      <td>NaN</td>\n",
       "      <td>NaN</td>\n",
       "      <td>0.179296</td>\n",
       "      <td>39.700001</td>\n",
       "      <td>True</td>\n",
       "      <td>False</td>\n",
       "    </tr>\n",
       "    <tr>\n",
       "      <th>64</th>\n",
       "      <td>3</td>\n",
       "      <td>1972</td>\n",
       "      <td>123.500000</td>\n",
       "      <td>9.930814</td>\n",
       "      <td>NaN</td>\n",
       "      <td>0.180434</td>\n",
       "      <td>39.900002</td>\n",
       "      <td>True</td>\n",
       "      <td>False</td>\n",
       "    </tr>\n",
       "    <tr>\n",
       "      <th>65</th>\n",
       "      <td>3</td>\n",
       "      <td>1973</td>\n",
       "      <td>124.400002</td>\n",
       "      <td>9.955092</td>\n",
       "      <td>NaN</td>\n",
       "      <td>0.181572</td>\n",
       "      <td>39.900002</td>\n",
       "      <td>True</td>\n",
       "      <td>False</td>\n",
       "    </tr>\n",
       "    <tr>\n",
       "      <th>66</th>\n",
       "      <td>3</td>\n",
       "      <td>1974</td>\n",
       "      <td>126.699997</td>\n",
       "      <td>9.947999</td>\n",
       "      <td>NaN</td>\n",
       "      <td>0.182710</td>\n",
       "      <td>41.900002</td>\n",
       "      <td>True</td>\n",
       "      <td>False</td>\n",
       "    </tr>\n",
       "  </tbody>\n",
       "</table>\n",
       "</div>"
      ],
      "text/plain": [
       "    state  year     cigsale  lnincome  beer  age15to24   retprice  california  \\\n",
       "62      3  1970  123.000000       NaN   NaN   0.178158  38.799999        True   \n",
       "63      3  1971  121.000000       NaN   NaN   0.179296  39.700001        True   \n",
       "64      3  1972  123.500000  9.930814   NaN   0.180434  39.900002        True   \n",
       "65      3  1973  124.400002  9.955092   NaN   0.181572  39.900002        True   \n",
       "66      3  1974  126.699997  9.947999   NaN   0.182710  41.900002        True   \n",
       "\n",
       "    after_treatment  \n",
       "62            False  \n",
       "63            False  \n",
       "64            False  \n",
       "65            False  \n",
       "66            False  "
      ]
     },
     "execution_count": 5,
     "metadata": {},
     "output_type": "execute_result"
    }
   ],
   "source": [
    "import pandas as pd\n",
    "\n",
    "cigar = pd.read_csv(\"../data/matheus_data/smoking.csv\")\n",
    "\n",
    "cigar.query(\"california == True\").head()"
   ]
  },
  {
   "cell_type": "markdown",
   "metadata": {},
   "source": [
    "## 질문이나 의견을 남겨주세요.\n",
    "<script src=\"https://utteranc.es/client.js\"\n",
    "        repo=\"myeongseok-gwon/teachbook-test\"\n",
    "        issue-term=\"pathname\"\n",
    "        theme=\"github-light\"\n",
    "        crossorigin=\"anonymous\"\n",
    "        async>\n",
    "</script>"
   ]
  }
 ],
 "metadata": {
  "kernelspec": {
   "display_name": "base",
   "language": "python",
   "name": "python3"
  },
  "language_info": {
   "codemirror_mode": {
    "name": "ipython",
    "version": 3
   },
   "file_extension": ".py",
   "mimetype": "text/x-python",
   "name": "python",
   "nbconvert_exporter": "python",
   "pygments_lexer": "ipython3",
   "version": "3.12.7"
  }
 },
 "nbformat": 4,
 "nbformat_minor": 2
}
