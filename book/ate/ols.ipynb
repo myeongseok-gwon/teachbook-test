{
 "cells": [
  {
   "cell_type": "markdown",
   "metadata": {},
   "source": [
    "# OLS and Fixed Effect"
   ]
  },
  {
   "cell_type": "code",
   "execution_count": 18,
   "metadata": {},
   "outputs": [
    {
     "data": {
      "text/html": [
       "<div>\n",
       "<style scoped>\n",
       "    .dataframe tbody tr th:only-of-type {\n",
       "        vertical-align: middle;\n",
       "    }\n",
       "\n",
       "    .dataframe tbody tr th {\n",
       "        vertical-align: top;\n",
       "    }\n",
       "\n",
       "    .dataframe thead th {\n",
       "        text-align: right;\n",
       "    }\n",
       "</style>\n",
       "<table border=\"1\" class=\"dataframe\">\n",
       "  <thead>\n",
       "    <tr style=\"text-align: right;\">\n",
       "      <th></th>\n",
       "      <th>nr</th>\n",
       "      <th>year</th>\n",
       "      <th>black</th>\n",
       "      <th>exper</th>\n",
       "      <th>hisp</th>\n",
       "      <th>hours</th>\n",
       "      <th>married</th>\n",
       "      <th>educ</th>\n",
       "      <th>union</th>\n",
       "      <th>lwage</th>\n",
       "      <th>expersq</th>\n",
       "      <th>occupation</th>\n",
       "    </tr>\n",
       "  </thead>\n",
       "  <tbody>\n",
       "    <tr>\n",
       "      <th>0</th>\n",
       "      <td>13</td>\n",
       "      <td>1980</td>\n",
       "      <td>0</td>\n",
       "      <td>1</td>\n",
       "      <td>0</td>\n",
       "      <td>2672</td>\n",
       "      <td>0</td>\n",
       "      <td>14</td>\n",
       "      <td>0</td>\n",
       "      <td>1.197540</td>\n",
       "      <td>1</td>\n",
       "      <td>9</td>\n",
       "    </tr>\n",
       "    <tr>\n",
       "      <th>1</th>\n",
       "      <td>13</td>\n",
       "      <td>1981</td>\n",
       "      <td>0</td>\n",
       "      <td>2</td>\n",
       "      <td>0</td>\n",
       "      <td>2320</td>\n",
       "      <td>0</td>\n",
       "      <td>14</td>\n",
       "      <td>1</td>\n",
       "      <td>1.853060</td>\n",
       "      <td>4</td>\n",
       "      <td>9</td>\n",
       "    </tr>\n",
       "    <tr>\n",
       "      <th>2</th>\n",
       "      <td>13</td>\n",
       "      <td>1982</td>\n",
       "      <td>0</td>\n",
       "      <td>3</td>\n",
       "      <td>0</td>\n",
       "      <td>2940</td>\n",
       "      <td>0</td>\n",
       "      <td>14</td>\n",
       "      <td>0</td>\n",
       "      <td>1.344462</td>\n",
       "      <td>9</td>\n",
       "      <td>9</td>\n",
       "    </tr>\n",
       "    <tr>\n",
       "      <th>3</th>\n",
       "      <td>13</td>\n",
       "      <td>1983</td>\n",
       "      <td>0</td>\n",
       "      <td>4</td>\n",
       "      <td>0</td>\n",
       "      <td>2960</td>\n",
       "      <td>0</td>\n",
       "      <td>14</td>\n",
       "      <td>0</td>\n",
       "      <td>1.433213</td>\n",
       "      <td>16</td>\n",
       "      <td>9</td>\n",
       "    </tr>\n",
       "    <tr>\n",
       "      <th>4</th>\n",
       "      <td>13</td>\n",
       "      <td>1984</td>\n",
       "      <td>0</td>\n",
       "      <td>5</td>\n",
       "      <td>0</td>\n",
       "      <td>3071</td>\n",
       "      <td>0</td>\n",
       "      <td>14</td>\n",
       "      <td>0</td>\n",
       "      <td>1.568125</td>\n",
       "      <td>25</td>\n",
       "      <td>5</td>\n",
       "    </tr>\n",
       "    <tr>\n",
       "      <th>5</th>\n",
       "      <td>13</td>\n",
       "      <td>1985</td>\n",
       "      <td>0</td>\n",
       "      <td>6</td>\n",
       "      <td>0</td>\n",
       "      <td>2864</td>\n",
       "      <td>0</td>\n",
       "      <td>14</td>\n",
       "      <td>0</td>\n",
       "      <td>1.699891</td>\n",
       "      <td>36</td>\n",
       "      <td>2</td>\n",
       "    </tr>\n",
       "    <tr>\n",
       "      <th>6</th>\n",
       "      <td>13</td>\n",
       "      <td>1986</td>\n",
       "      <td>0</td>\n",
       "      <td>7</td>\n",
       "      <td>0</td>\n",
       "      <td>2994</td>\n",
       "      <td>0</td>\n",
       "      <td>14</td>\n",
       "      <td>0</td>\n",
       "      <td>-0.720263</td>\n",
       "      <td>49</td>\n",
       "      <td>2</td>\n",
       "    </tr>\n",
       "    <tr>\n",
       "      <th>7</th>\n",
       "      <td>13</td>\n",
       "      <td>1987</td>\n",
       "      <td>0</td>\n",
       "      <td>8</td>\n",
       "      <td>0</td>\n",
       "      <td>2640</td>\n",
       "      <td>0</td>\n",
       "      <td>14</td>\n",
       "      <td>0</td>\n",
       "      <td>1.669188</td>\n",
       "      <td>64</td>\n",
       "      <td>2</td>\n",
       "    </tr>\n",
       "    <tr>\n",
       "      <th>8</th>\n",
       "      <td>17</td>\n",
       "      <td>1980</td>\n",
       "      <td>0</td>\n",
       "      <td>4</td>\n",
       "      <td>0</td>\n",
       "      <td>2484</td>\n",
       "      <td>0</td>\n",
       "      <td>13</td>\n",
       "      <td>0</td>\n",
       "      <td>1.675962</td>\n",
       "      <td>16</td>\n",
       "      <td>2</td>\n",
       "    </tr>\n",
       "    <tr>\n",
       "      <th>9</th>\n",
       "      <td>17</td>\n",
       "      <td>1981</td>\n",
       "      <td>0</td>\n",
       "      <td>5</td>\n",
       "      <td>0</td>\n",
       "      <td>2804</td>\n",
       "      <td>0</td>\n",
       "      <td>13</td>\n",
       "      <td>0</td>\n",
       "      <td>1.518398</td>\n",
       "      <td>25</td>\n",
       "      <td>2</td>\n",
       "    </tr>\n",
       "  </tbody>\n",
       "</table>\n",
       "</div>"
      ],
      "text/plain": [
       "   nr  year  black  exper  hisp  hours  married  educ  union     lwage  \\\n",
       "0  13  1980      0      1     0   2672        0    14      0  1.197540   \n",
       "1  13  1981      0      2     0   2320        0    14      1  1.853060   \n",
       "2  13  1982      0      3     0   2940        0    14      0  1.344462   \n",
       "3  13  1983      0      4     0   2960        0    14      0  1.433213   \n",
       "4  13  1984      0      5     0   3071        0    14      0  1.568125   \n",
       "5  13  1985      0      6     0   2864        0    14      0  1.699891   \n",
       "6  13  1986      0      7     0   2994        0    14      0 -0.720263   \n",
       "7  13  1987      0      8     0   2640        0    14      0  1.669188   \n",
       "8  17  1980      0      4     0   2484        0    13      0  1.675962   \n",
       "9  17  1981      0      5     0   2804        0    13      0  1.518398   \n",
       "\n",
       "   expersq  occupation  \n",
       "0        1           9  \n",
       "1        4           9  \n",
       "2        9           9  \n",
       "3       16           9  \n",
       "4       25           5  \n",
       "5       36           2  \n",
       "6       49           2  \n",
       "7       64           2  \n",
       "8       16           2  \n",
       "9       25           2  "
      ]
     },
     "execution_count": 18,
     "metadata": {},
     "output_type": "execute_result"
    }
   ],
   "source": [
    "from linearmodels.datasets import wage_panel\n",
    "\n",
    "data = wage_panel.load()\n",
    "data.head(10)\n",
    "\n",
    "# nr: individual id\n",
    "# lwage: log of wage -> y\n",
    "# married -> T"
   ]
  },
  {
   "cell_type": "markdown",
   "metadata": {},
   "source": [
    "## 1. OLS with Control: Ceteris Paribus -- to control what we can see"
   ]
  },
  {
   "cell_type": "code",
   "execution_count": 13,
   "metadata": {},
   "outputs": [
    {
     "data": {
      "text/html": [
       "<table class=\"simpletable\">\n",
       "<tr>\n",
       "      <td></td>         <th>coef</th>     <th>std err</th>      <th>t</th>      <th>P>|t|</th>  <th>[0.025</th>    <th>0.975]</th>  \n",
       "</tr>\n",
       "<tr>\n",
       "  <th>Intercept</th> <td>    1.5327</td> <td>    0.032</td> <td>   47.842</td> <td> 0.000</td> <td>    1.470</td> <td>    1.595</td>\n",
       "</tr>\n",
       "<tr>\n",
       "  <th>expersq</th>   <td>    0.0012</td> <td>    0.000</td> <td>    6.208</td> <td> 0.000</td> <td>    0.001</td> <td>    0.002</td>\n",
       "</tr>\n",
       "<tr>\n",
       "  <th>union</th>     <td>    0.1679</td> <td>    0.018</td> <td>    9.239</td> <td> 0.000</td> <td>    0.132</td> <td>    0.204</td>\n",
       "</tr>\n",
       "<tr>\n",
       "  <th>married</th>   <td>    0.1966</td> <td>    0.016</td> <td>   11.948</td> <td> 0.000</td> <td>    0.164</td> <td>    0.229</td>\n",
       "</tr>\n",
       "<tr>\n",
       "  <th>hours</th>     <td> -3.33e-05</td> <td> 1.42e-05</td> <td>   -2.352</td> <td> 0.019</td> <td>-6.11e-05</td> <td>-5.54e-06</td>\n",
       "</tr>\n",
       "</table>"
      ],
      "text/latex": [
       "\\begin{center}\n",
       "\\begin{tabular}{lcccccc}\n",
       "\\toprule\n",
       "                   & \\textbf{coef} & \\textbf{std err} & \\textbf{t} & \\textbf{P$> |$t$|$} & \\textbf{[0.025} & \\textbf{0.975]}  \\\\\n",
       "\\midrule\n",
       "\\textbf{Intercept} &       1.5327  &        0.032     &    47.842  &         0.000        &        1.470    &        1.595     \\\\\n",
       "\\textbf{expersq}   &       0.0012  &        0.000     &     6.208  &         0.000        &        0.001    &        0.002     \\\\\n",
       "\\textbf{union}     &       0.1679  &        0.018     &     9.239  &         0.000        &        0.132    &        0.204     \\\\\n",
       "\\textbf{married}   &       0.1966  &        0.016     &    11.948  &         0.000        &        0.164    &        0.229     \\\\\n",
       "\\textbf{hours}     &    -3.33e-05  &     1.42e-05     &    -2.352  &         0.019        &    -6.11e-05    &    -5.54e-06     \\\\\n",
       "\\bottomrule\n",
       "\\end{tabular}\n",
       "\\end{center}"
      ],
      "text/plain": [
       "<class 'statsmodels.iolib.table.SimpleTable'>"
      ]
     },
     "execution_count": 13,
     "metadata": {},
     "output_type": "execute_result"
    }
   ],
   "source": [
    "import statsmodels.formula.api as smf\n",
    "\n",
    "ols_model = smf.ols('lwage ~ expersq + union + married + hours', data=data).fit()\n",
    "ols_model.summary().tables[1]"
   ]
  },
  {
   "cell_type": "markdown",
   "metadata": {},
   "source": [
    "## 2. Using Fixed Effect -- to control what we cannot see"
   ]
  },
  {
   "cell_type": "markdown",
   "metadata": {},
   "source": [
    "### 2-1. Entity Effects (time-fixed confounders)"
   ]
  },
  {
   "cell_type": "code",
   "execution_count": 14,
   "metadata": {},
   "outputs": [
    {
     "data": {
      "text/html": [
       "<table class=\"simpletable\">\n",
       "<caption>Parameter Estimates</caption>\n",
       "<tr>\n",
       "     <td></td>     <th>Parameter</th> <th>Std. Err.</th> <th>T-stat</th>  <th>P-value</th> <th>Lower CI</th>  <th>Upper CI</th> \n",
       "</tr>\n",
       "<tr>\n",
       "  <th>expersq</th>  <td>0.0040</td>    <td>0.0002</td>   <td>16.552</td>  <td>0.0000</td>   <td>0.0035</td>    <td>0.0044</td>  \n",
       "</tr>\n",
       "<tr>\n",
       "  <th>union</th>    <td>0.0784</td>    <td>0.0236</td>   <td>3.3225</td>  <td>0.0009</td>   <td>0.0322</td>    <td>0.1247</td>  \n",
       "</tr>\n",
       "<tr>\n",
       "  <th>married</th>  <td>0.1147</td>    <td>0.0220</td>   <td>5.2213</td>  <td>0.0000</td>   <td>0.0716</td>    <td>0.1577</td>  \n",
       "</tr>\n",
       "<tr>\n",
       "  <th>hours</th>   <td>-8.46e-05</td> <td>2.22e-05</td>  <td>-3.8105</td> <td>0.0001</td>   <td>-0.0001</td> <td>-4.107e-05</td>\n",
       "</tr>\n",
       "</table>"
      ],
      "text/latex": [
       "\\begin{center}\n",
       "\\begin{tabular}{lcccccc}\n",
       "\\toprule\n",
       "                 & \\textbf{Parameter} & \\textbf{Std. Err.} & \\textbf{T-stat} & \\textbf{P-value} & \\textbf{Lower CI} & \\textbf{Upper CI}  \\\\\n",
       "\\midrule\n",
       "\\textbf{expersq} &       0.0040       &       0.0002       &      16.552     &      0.0000      &       0.0035      &       0.0044       \\\\\n",
       "\\textbf{union}   &       0.0784       &       0.0236       &      3.3225     &      0.0009      &       0.0322      &       0.1247       \\\\\n",
       "\\textbf{married} &       0.1147       &       0.0220       &      5.2213     &      0.0000      &       0.0716      &       0.1577       \\\\\n",
       "\\textbf{hours}   &     -8.46e-05      &      2.22e-05      &     -3.8105     &      0.0001      &      -0.0001      &     -4.107e-05     \\\\\n",
       "\\bottomrule\n",
       "\\end{tabular}\n",
       "%\\caption{Parameter Estimates}\n",
       "\\end{center}"
      ],
      "text/plain": [
       "<class 'statsmodels.iolib.table.SimpleTable'>"
      ]
     },
     "execution_count": 14,
     "metadata": {},
     "output_type": "execute_result"
    }
   ],
   "source": [
    "from linearmodels.panel import PanelOLS\n",
    "mod = PanelOLS.from_formula(\"lwage ~ expersq + union + married + hours + EntityEffects\",\n",
    "                            data=data.set_index([\"nr\", \"year\"]))\n",
    "\n",
    "result = mod.fit(cov_type='clustered', cluster_entity=True)\n",
    "result.summary.tables[1]"
   ]
  },
  {
   "cell_type": "markdown",
   "metadata": {},
   "source": [
    "### 2-2. Time Effects (entity-fixed confounders)"
   ]
  },
  {
   "cell_type": "code",
   "execution_count": 15,
   "metadata": {},
   "outputs": [
    {
     "data": {
      "text/html": [
       "<table class=\"simpletable\">\n",
       "<caption>Parameter Estimates</caption>\n",
       "<tr>\n",
       "     <td></td>      <th>Parameter</th> <th>Std. Err.</th> <th>T-stat</th>  <th>P-value</th> <th>Lower CI</th> <th>Upper CI</th> \n",
       "</tr>\n",
       "<tr>\n",
       "  <th>expersq</th>   <td>-0.0021</td>   <td>0.0002</td>   <td>-10.845</td> <td>0.0000</td>   <td>-0.0025</td>  <td>-0.0017</td> \n",
       "</tr>\n",
       "<tr>\n",
       "  <th>union</th>     <td>0.1721</td>    <td>0.0210</td>   <td>8.2153</td>  <td>0.0000</td>   <td>0.1311</td>   <td>0.2132</td>  \n",
       "</tr>\n",
       "<tr>\n",
       "  <th>married</th>   <td>0.1634</td>    <td>0.0070</td>   <td>23.221</td>  <td>0.0000</td>   <td>0.1496</td>   <td>0.1772</td>  \n",
       "</tr>\n",
       "<tr>\n",
       "  <th>hours</th>   <td>-6.535e-05</td> <td>3.629e-05</td> <td>-1.8010</td> <td>0.0718</td>   <td>-0.0001</td> <td>5.789e-06</td>\n",
       "</tr>\n",
       "</table>"
      ],
      "text/latex": [
       "\\begin{center}\n",
       "\\begin{tabular}{lcccccc}\n",
       "\\toprule\n",
       "                 & \\textbf{Parameter} & \\textbf{Std. Err.} & \\textbf{T-stat} & \\textbf{P-value} & \\textbf{Lower CI} & \\textbf{Upper CI}  \\\\\n",
       "\\midrule\n",
       "\\textbf{expersq} &      -0.0021       &       0.0002       &     -10.845     &      0.0000      &      -0.0025      &      -0.0017       \\\\\n",
       "\\textbf{union}   &       0.1721       &       0.0210       &      8.2153     &      0.0000      &       0.1311      &       0.2132       \\\\\n",
       "\\textbf{married} &       0.1634       &       0.0070       &      23.221     &      0.0000      &       0.1496      &       0.1772       \\\\\n",
       "\\textbf{hours}   &     -6.535e-05     &     3.629e-05      &     -1.8010     &      0.0718      &      -0.0001      &     5.789e-06      \\\\\n",
       "\\bottomrule\n",
       "\\end{tabular}\n",
       "%\\caption{Parameter Estimates}\n",
       "\\end{center}"
      ],
      "text/plain": [
       "<class 'statsmodels.iolib.table.SimpleTable'>"
      ]
     },
     "execution_count": 15,
     "metadata": {},
     "output_type": "execute_result"
    }
   ],
   "source": [
    "from linearmodels.panel import PanelOLS\n",
    "\n",
    "mod = PanelOLS.from_formula(\"lwage ~ expersq + union + married + hours + TimeEffects\",\n",
    "                            data=data.set_index([\"nr\", \"year\"]))\n",
    "\n",
    "result = mod.fit(cov_type='clustered', cluster_time=True)\n",
    "result.summary.tables[1]"
   ]
  },
  {
   "cell_type": "markdown",
   "metadata": {},
   "source": [
    "### 2-3. Use Both Entity and Time Effects"
   ]
  },
  {
   "cell_type": "code",
   "execution_count": 16,
   "metadata": {},
   "outputs": [
    {
     "data": {
      "text/html": [
       "<table class=\"simpletable\">\n",
       "<caption>Parameter Estimates</caption>\n",
       "<tr>\n",
       "     <td></td>     <th>Parameter</th> <th>Std. Err.</th> <th>T-stat</th>  <th>P-value</th> <th>Lower CI</th>  <th>Upper CI</th> \n",
       "</tr>\n",
       "<tr>\n",
       "  <th>expersq</th>  <td>-0.0062</td>   <td>0.0008</td>   <td>-8.1479</td> <td>0.0000</td>   <td>-0.0077</td>   <td>-0.0047</td> \n",
       "</tr>\n",
       "<tr>\n",
       "  <th>union</th>    <td>0.0727</td>    <td>0.0228</td>   <td>3.1858</td>  <td>0.0015</td>   <td>0.0279</td>    <td>0.1174</td>  \n",
       "</tr>\n",
       "<tr>\n",
       "  <th>married</th>  <td>0.0476</td>    <td>0.0177</td>   <td>2.6906</td>  <td>0.0072</td>   <td>0.0129</td>    <td>0.0823</td>  \n",
       "</tr>\n",
       "<tr>\n",
       "  <th>hours</th>    <td>-0.0001</td>  <td>3.546e-05</td> <td>-3.8258</td> <td>0.0001</td>   <td>-0.0002</td> <td>-6.614e-05</td>\n",
       "</tr>\n",
       "</table>"
      ],
      "text/latex": [
       "\\begin{center}\n",
       "\\begin{tabular}{lcccccc}\n",
       "\\toprule\n",
       "                 & \\textbf{Parameter} & \\textbf{Std. Err.} & \\textbf{T-stat} & \\textbf{P-value} & \\textbf{Lower CI} & \\textbf{Upper CI}  \\\\\n",
       "\\midrule\n",
       "\\textbf{expersq} &      -0.0062       &       0.0008       &     -8.1479     &      0.0000      &      -0.0077      &      -0.0047       \\\\\n",
       "\\textbf{union}   &       0.0727       &       0.0228       &      3.1858     &      0.0015      &       0.0279      &       0.1174       \\\\\n",
       "\\textbf{married} &       0.0476       &       0.0177       &      2.6906     &      0.0072      &       0.0129      &       0.0823       \\\\\n",
       "\\textbf{hours}   &      -0.0001       &     3.546e-05      &     -3.8258     &      0.0001      &      -0.0002      &     -6.614e-05     \\\\\n",
       "\\bottomrule\n",
       "\\end{tabular}\n",
       "%\\caption{Parameter Estimates}\n",
       "\\end{center}"
      ],
      "text/plain": [
       "<class 'statsmodels.iolib.table.SimpleTable'>"
      ]
     },
     "execution_count": 16,
     "metadata": {},
     "output_type": "execute_result"
    }
   ],
   "source": [
    "from linearmodels.panel import PanelOLS\n",
    "\n",
    "mod = PanelOLS.from_formula(\"lwage ~ expersq + union + married + hours + EntityEffects + TimeEffects\",\n",
    "                            data=data.set_index([\"nr\", \"year\"]))\n",
    "\n",
    "result = mod.fit(cov_type='clustered', cluster_entity=True, cluster_time=True)\n",
    "result.summary.tables[1]"
   ]
  },
  {
   "cell_type": "markdown",
   "metadata": {},
   "source": [
    "## Example discussion\n",
    "<script src=\"https://utteranc.es/client.js\"\n",
    "        repo=\"myeongseok-gwon/teachbook-test\"\n",
    "        issue-term=\"pathname\"\n",
    "        theme=\"github-light\"\n",
    "        crossorigin=\"anonymous\"\n",
    "        async>\n",
    "</script>"
   ]
  }
 ],
 "metadata": {
  "kernelspec": {
   "display_name": "base",
   "language": "python",
   "name": "python3"
  },
  "language_info": {
   "codemirror_mode": {
    "name": "ipython",
    "version": 3
   },
   "file_extension": ".py",
   "mimetype": "text/x-python",
   "name": "python",
   "nbconvert_exporter": "python",
   "pygments_lexer": "ipython3",
   "version": "3.12.7"
  }
 },
 "nbformat": 4,
 "nbformat_minor": 2
}
