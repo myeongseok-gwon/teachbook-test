{
 "cells": [
  {
   "cell_type": "markdown",
   "metadata": {},
   "source": [
    "# Synthetic Difference-in-Difference (SDID)"
   ]
  },
  {
   "cell_type": "markdown",
   "metadata": {},
   "source": [
    "- Synthetic Control을 먼저 읽고 오세요.\n",
    "- Synthetic Difference-in-Difference (SDID)는 Synthetic Control과 DiD를 결합한 방법입니다.\n",
    "- 더 Robust하다고 합니다. 그래서 Synthetic Control만 돌리면, SDID도 돌려보라고 할 수도 있겠네요. 두 specification이 같은 주장을 지지하면 아무래도 더 신뢰할 수 있겠죠."
   ]
  },
  {
   "cell_type": "code",
   "execution_count": 2,
   "metadata": {},
   "outputs": [
    {
     "data": {
      "text/html": [
       "<div>\n",
       "<style scoped>\n",
       "    .dataframe tbody tr th:only-of-type {\n",
       "        vertical-align: middle;\n",
       "    }\n",
       "\n",
       "    .dataframe tbody tr th {\n",
       "        vertical-align: top;\n",
       "    }\n",
       "\n",
       "    .dataframe thead th {\n",
       "        text-align: right;\n",
       "    }\n",
       "</style>\n",
       "<table border=\"1\" class=\"dataframe\">\n",
       "  <thead>\n",
       "    <tr style=\"text-align: right;\">\n",
       "      <th></th>\n",
       "      <th>state</th>\n",
       "      <th>year</th>\n",
       "      <th>cigsale</th>\n",
       "      <th>lnincome</th>\n",
       "      <th>beer</th>\n",
       "      <th>age15to24</th>\n",
       "      <th>retprice</th>\n",
       "      <th>california</th>\n",
       "      <th>after_treatment</th>\n",
       "    </tr>\n",
       "  </thead>\n",
       "  <tbody>\n",
       "    <tr>\n",
       "      <th>62</th>\n",
       "      <td>3</td>\n",
       "      <td>1970</td>\n",
       "      <td>123.000000</td>\n",
       "      <td>NaN</td>\n",
       "      <td>NaN</td>\n",
       "      <td>0.178158</td>\n",
       "      <td>38.799999</td>\n",
       "      <td>True</td>\n",
       "      <td>False</td>\n",
       "    </tr>\n",
       "    <tr>\n",
       "      <th>63</th>\n",
       "      <td>3</td>\n",
       "      <td>1971</td>\n",
       "      <td>121.000000</td>\n",
       "      <td>NaN</td>\n",
       "      <td>NaN</td>\n",
       "      <td>0.179296</td>\n",
       "      <td>39.700001</td>\n",
       "      <td>True</td>\n",
       "      <td>False</td>\n",
       "    </tr>\n",
       "    <tr>\n",
       "      <th>64</th>\n",
       "      <td>3</td>\n",
       "      <td>1972</td>\n",
       "      <td>123.500000</td>\n",
       "      <td>9.930814</td>\n",
       "      <td>NaN</td>\n",
       "      <td>0.180434</td>\n",
       "      <td>39.900002</td>\n",
       "      <td>True</td>\n",
       "      <td>False</td>\n",
       "    </tr>\n",
       "    <tr>\n",
       "      <th>65</th>\n",
       "      <td>3</td>\n",
       "      <td>1973</td>\n",
       "      <td>124.400002</td>\n",
       "      <td>9.955092</td>\n",
       "      <td>NaN</td>\n",
       "      <td>0.181572</td>\n",
       "      <td>39.900002</td>\n",
       "      <td>True</td>\n",
       "      <td>False</td>\n",
       "    </tr>\n",
       "    <tr>\n",
       "      <th>66</th>\n",
       "      <td>3</td>\n",
       "      <td>1974</td>\n",
       "      <td>126.699997</td>\n",
       "      <td>9.947999</td>\n",
       "      <td>NaN</td>\n",
       "      <td>0.182710</td>\n",
       "      <td>41.900002</td>\n",
       "      <td>True</td>\n",
       "      <td>False</td>\n",
       "    </tr>\n",
       "  </tbody>\n",
       "</table>\n",
       "</div>"
      ],
      "text/plain": [
       "    state  year     cigsale  lnincome  beer  age15to24   retprice  california  \\\n",
       "62      3  1970  123.000000       NaN   NaN   0.178158  38.799999        True   \n",
       "63      3  1971  121.000000       NaN   NaN   0.179296  39.700001        True   \n",
       "64      3  1972  123.500000  9.930814   NaN   0.180434  39.900002        True   \n",
       "65      3  1973  124.400002  9.955092   NaN   0.181572  39.900002        True   \n",
       "66      3  1974  126.699997  9.947999   NaN   0.182710  41.900002        True   \n",
       "\n",
       "    after_treatment  \n",
       "62            False  \n",
       "63            False  \n",
       "64            False  \n",
       "65            False  \n",
       "66            False  "
      ]
     },
     "execution_count": 2,
     "metadata": {},
     "output_type": "execute_result"
    }
   ],
   "source": [
    "import pandas as pd\n",
    "\n",
    "cigar = pd.read_csv(\"../data/matheus_data/smoking.csv\")\n",
    "\n",
    "cigar.query(\"california == True\").head()"
   ]
  },
  {
   "cell_type": "markdown",
   "metadata": {},
   "source": [
    "## 질문이나 의견을 남겨주세요.\n",
    "<script src=\"https://utteranc.es/client.js\"\n",
    "        repo=\"myeongseok-gwon/teachbook-test\"\n",
    "        issue-term=\"pathname\"\n",
    "        theme=\"github-light\"\n",
    "        crossorigin=\"anonymous\"\n",
    "        async>\n",
    "</script>"
   ]
  }
 ],
 "metadata": {
  "kernelspec": {
   "display_name": "base",
   "language": "python",
   "name": "python3"
  },
  "language_info": {
   "codemirror_mode": {
    "name": "ipython",
    "version": 3
   },
   "file_extension": ".py",
   "mimetype": "text/x-python",
   "name": "python",
   "nbconvert_exporter": "python",
   "pygments_lexer": "ipython3",
   "version": "3.12.7"
  }
 },
 "nbformat": 4,
 "nbformat_minor": 2
}
